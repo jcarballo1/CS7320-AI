{
 "cells": [
  {
   "cell_type": "markdown",
   "metadata": {},
   "source": [
    "# Intelligent Agents: Reflex Agents for the Vacuum-cleaner World\n",
    "\n",
    "\n",
    "## Instructions\n",
    "\n",
    "Total Points: undergrad 10, graduate students 11\n",
    "\n",
    "Complete this notebook and submit it. The notebook needs to be a complete project report with \n",
    "\n",
    "* your implementation (you can use libraries like math, numpy, scipy, but not libraries that implement inteligent agents or search algorithms),\n",
    "* documentation including a short discussion of how your implementation works and your design choices, and\n",
    "* experimental results (e.g., tables and charts with simulation results) with a short discussion of what they mean. \n",
    "\n",
    "Use the provided notebook cells and insert additional code and markdown cells as needed.\n",
    "\n",
    "## Introduction\n",
    "\n",
    "In this assignment you will implement a simulator environment for an automatic vacuum cleaner robot, a set of different reflex agent programs, and perform a comparison study for cleaning a single room. Focus on the __cleaning phase__ which starts when the robot is activated and ends when the last dirty square is cleaned. Someone else will take care of the agent program needed to navigate back to the charging station after the room is clean.\n",
    "\n",
    "## PEAS description of the cleaning phase\n",
    "\n",
    "__Performance Measure:__ Each action costs 1 energy unit. The performance is measured as the sum of the energy units used to clean the whole room.\n",
    "\n",
    "__Environment:__ A room with $n \\times n$ squares where $n = 5$. Dirt is randomly placed on each square with probability $p = 0.2$. For simplicity, you can assume that the agent knows the size and the layout of the room (i.e., it knows $n$). To start, the agent is placed on a random square.\n",
    "\n",
    "__Actuators:__ The agent can clean the current square (action `suck`) or move to an adjacent square by going `north`, `east`, `south`, or `west`.\n",
    "\n",
    "__Sensors:__ Four bumper sensors, one for north, east, south, and west; a dirt sensor reporting dirt in the current square.  \n",
    "\n",
    "\n",
    "## The agent program for a simple randomized agent\n",
    "\n",
    "The agent program is a function that gets sensor information (the current percepts) as the arguments. The arguments are:\n",
    "\n",
    "* A dictionary with boolean entries for the for bumper sensors `north`, `east`, `west`, `south`. E.g., if the agent is on the north-west corner, `bumpers` will be `{\"north\" : True, \"east\" : False, \"south\" : False, \"west\" : True}`.\n",
    "* The dirt sensor produces a boolean.\n",
    "\n",
    "The agent returns the chosen action as a string.\n",
    "\n",
    "Here is an example implementation for the agent program of a simple randomized agent:  "
   ]
  },
  {
   "cell_type": "code",
   "execution_count": 11,
   "metadata": {},
   "outputs": [],
   "source": [
    "import numpy as np\n",
    "\n",
    "actions = [\"north\", \"east\", \"west\", \"south\", \"suck\"]\n",
    "\n",
    "def simple_randomized_agent(bumpers, dirty):\n",
    "    return np.random.choice(actions)"
   ]
  },
  {
   "cell_type": "code",
   "execution_count": 12,
   "metadata": {},
   "outputs": [
    {
     "data": {
      "text/plain": [
       "'suck'"
      ]
     },
     "execution_count": 12,
     "metadata": {},
     "output_type": "execute_result"
    }
   ],
   "source": [
    "# define percepts (current location is NW corner and it is dirty)\n",
    "bumpers = {\"north\" : True, \"east\" : False, \"south\" : False, \"west\" : True}\n",
    "dirty = True\n",
    "\n",
    "# call agent program function with percepts and it returns an action\n",
    "simple_randomized_agent(bumpers, dirty)"
   ]
  },
  {
   "cell_type": "markdown",
   "metadata": {},
   "source": [
    "__Note:__ This is not a rational intelligent agent. It ignores its sensors and may bump into a wall repeatedly or not clean a dirty square. You will be asked to implement rational agents below."
   ]
  },
  {
   "cell_type": "markdown",
   "metadata": {},
   "source": [
    "## Simple environment example\n",
    "\n",
    "We implement a simple simulation environment that supplies the agent with its percepts.\n",
    "The simple environment is infinite in size (bumpers are always `False`) and every square is always dirty, even if the agent cleans it. The environment function returns a performance measure which is here the number of cleaned squares (since the room is infinite and all squares are constantly dirty, the agent can never clean the whole room as required in the PEAS description above). The energy budget of the agent is specified as `max_steps`. "
   ]
  },
  {
   "cell_type": "code",
   "execution_count": 13,
   "metadata": {
    "tags": []
   },
   "outputs": [],
   "source": [
    "def simple_environment(agent, max_steps, verbose = True):\n",
    "    num_cleaned = 0\n",
    "    \n",
    "    for i in range(max_steps):\n",
    "        dirty = True\n",
    "        bumpers = {\"north\" : False, \"south\" : False, \"west\" : False, \"east\" : False}\n",
    "\n",
    "        action = agent(bumpers, dirty)\n",
    "        if (verbose): print(\"step\", i , \"- action:\", action) \n",
    "        \n",
    "        if (action == \"suck\"): \n",
    "            num_cleaned = num_cleaned + 1\n",
    "        \n",
    "    return num_cleaned\n",
    "        \n"
   ]
  },
  {
   "cell_type": "markdown",
   "metadata": {},
   "source": [
    "Do one simulation run with a simple randomized agent that has enough energy for 20 steps."
   ]
  },
  {
   "cell_type": "code",
   "execution_count": 14,
   "metadata": {},
   "outputs": [
    {
     "name": "stdout",
     "output_type": "stream",
     "text": [
      "step 0 - action: north\n",
      "step 1 - action: suck\n",
      "step 2 - action: east\n",
      "step 3 - action: north\n",
      "step 4 - action: suck\n",
      "step 5 - action: south\n",
      "step 6 - action: south\n",
      "step 7 - action: suck\n",
      "step 8 - action: west\n",
      "step 9 - action: north\n",
      "step 10 - action: west\n",
      "step 11 - action: north\n",
      "step 12 - action: west\n",
      "step 13 - action: south\n",
      "step 14 - action: east\n",
      "step 15 - action: north\n",
      "step 16 - action: south\n",
      "step 17 - action: west\n",
      "step 18 - action: east\n",
      "step 19 - action: south\n"
     ]
    },
    {
     "data": {
      "text/plain": [
       "3"
      ]
     },
     "execution_count": 14,
     "metadata": {},
     "output_type": "execute_result"
    }
   ],
   "source": [
    "simple_environment(simple_randomized_agent, max_steps = 20)"
   ]
  },
  {
   "cell_type": "markdown",
   "metadata": {},
   "source": [
    "# Tasks\n",
    "\n",
    "_Submission Instructions:_ Use this notebook to prepare your submission. Complete this section with your code and results. You can add additional Markdown blocks for your description, comments in the code and use mathplotlib to produce charts. \n",
    "\n",
    "_Note:_ Try to keep the code simple! In this course, we want to learn about the algorithms and we often do not need to use object-oriented design. \n",
    "\n",
    "\n",
    "## Task 1: Implement a simulation environment [2 Points]\n",
    "\n",
    "The simple environment above is not very realistic. Your environment simulator needs to follow the PEAS description from above. It needs to:\n",
    "\n",
    "* Initialize the environment by storing the state of each square (clean/dirty) and making some dirty.\n",
    "* Keep track of the agent's position.\n",
    "* Call the agent function repeatedly and provide the agent function with the sensor inputs.  \n",
    "* React to the agent's actions. E.g, by removing dirt from a square or moving the agent around unless there is a wall in the way.\n",
    "* Keep track of the performance measure. That is, track the agent's actions until all dirty squares are clean and count the number of actions it takes the agent to complete the task.\n",
    "\n",
    "The easiest implementation for the environment is to hold an 2-dimensional array to represent if squares are clean or dirty and to call the agent function in a loop until all squares are clean or a predefined number of steps have been reached (i.e., the robot runs out of energy).\n",
    "\n",
    "The simulation environment needs to work with the simple randomized agent program from above and then it can be used for your agent implementation in the tasks below."
   ]
  },
  {
   "cell_type": "code",
   "execution_count": 100,
   "metadata": {},
   "outputs": [],
   "source": [
    "import numpy as np\n",
    "\n",
    "# Description:\n",
    "#   This environment tracks the squares on the ground ina 2D array\n",
    "#   The robot is also tracked using x, y coordinates on the squares and will set the \"dirty\" (True)\n",
    "#   squares to clean (False) when needed.\n",
    "#   Number of actions taken are tracked by curr_step variable.\n",
    "def sim_environment(agent, n = 5, max_steps = 20, verbose = True):\n",
    "    #randomize initial squares\n",
    "    squares = np.random.choice(a = [False, True], size = (n, n), p = [.8, .2])\n",
    "    \n",
    "    #choose random start position\n",
    "    x = np.random.randint(n)\n",
    "    y = np.random.randint(n)\n",
    "    \n",
    "    curr_step = 0\n",
    "    while np.count_nonzero(squares) > 0 and curr_step < max_steps:\n",
    "        bumpers = {\n",
    "            'north': False,\n",
    "            'south': False,\n",
    "            'east': False,\n",
    "            'west': False\n",
    "        }\n",
    "        \n",
    "        #horizantal coord.\n",
    "        if x == 0:\n",
    "            bumpers['north'] = True\n",
    "        elif x == n - 1:\n",
    "            bumpers['south'] = True\n",
    "        #vertical coord.\n",
    "        if y == 0:\n",
    "            bumpers['west'] = True\n",
    "        elif y == n - 1:\n",
    "            bumpers['east'] = True\n",
    "            \n",
    "        dirty_square = squares[x][y]\n",
    "        #call agent function\n",
    "        agent_action = agent(bumpers, dirty_square)\n",
    "        \n",
    "        #react to agent action\n",
    "        if verbose:\n",
    "            print(\"Step \", curr_step, \" - Position: (\", x, \", \", y, \") - Action: \", agent_action)\n",
    "        if agent_action == \"suck\":\n",
    "            squares[x][y] = False\n",
    "        elif agent_action == \"north\" and x != 0:\n",
    "            x -= 1\n",
    "        elif agent_action == \"south\" and x != n - 1: \n",
    "            x += 1\n",
    "        elif agent_action == \"east\" and y != n - 1:\n",
    "            y += 1\n",
    "        elif agent_action == \"west\" and y != 0:\n",
    "            y -= 1\n",
    "            \n",
    "        curr_step += 1\n",
    "        \n",
    "    return curr_step"
   ]
  },
  {
   "cell_type": "code",
   "execution_count": 101,
   "metadata": {},
   "outputs": [
    {
     "name": "stdout",
     "output_type": "stream",
     "text": [
      "Step  0  - Position: ( 3 ,  1 ) - Action:  south\n",
      "Step  1  - Position: ( 4 ,  1 ) - Action:  south\n",
      "Step  2  - Position: ( 4 ,  1 ) - Action:  south\n",
      "Step  3  - Position: ( 4 ,  1 ) - Action:  west\n",
      "Step  4  - Position: ( 4 ,  0 ) - Action:  north\n",
      "Step  5  - Position: ( 3 ,  0 ) - Action:  east\n",
      "Step  6  - Position: ( 3 ,  1 ) - Action:  west\n",
      "Step  7  - Position: ( 3 ,  0 ) - Action:  east\n",
      "Step  8  - Position: ( 3 ,  1 ) - Action:  west\n",
      "Step  9  - Position: ( 3 ,  0 ) - Action:  north\n",
      "Step  10  - Position: ( 2 ,  0 ) - Action:  north\n",
      "Step  11  - Position: ( 1 ,  0 ) - Action:  suck\n",
      "Step  12  - Position: ( 1 ,  0 ) - Action:  east\n",
      "Step  13  - Position: ( 1 ,  1 ) - Action:  south\n",
      "Step  14  - Position: ( 2 ,  1 ) - Action:  east\n",
      "Step  15  - Position: ( 2 ,  2 ) - Action:  north\n",
      "Step  16  - Position: ( 1 ,  2 ) - Action:  south\n",
      "Step  17  - Position: ( 2 ,  2 ) - Action:  east\n",
      "Step  18  - Position: ( 2 ,  3 ) - Action:  north\n",
      "Step  19  - Position: ( 1 ,  3 ) - Action:  west\n"
     ]
    },
    {
     "data": {
      "text/plain": [
       "20"
      ]
     },
     "execution_count": 101,
     "metadata": {},
     "output_type": "execute_result"
    }
   ],
   "source": [
    "#calling\n",
    "sim_environment(simple_randomized_agent)"
   ]
  },
  {
   "cell_type": "markdown",
   "metadata": {},
   "source": [
    "## Task 2:  Implement a simple reflex agent [1 Point] \n",
    "\n",
    "The simple reflex agent randomly walks around but reacts to the bumper sensor by not bumping into the wall and to dirt with sucking. Implement the agent program as a function.\n",
    "\n",
    "_Note:_ Agents cannot directly use variable in the environment. They only gets the percepts as the arguments to the agent function."
   ]
  },
  {
   "cell_type": "code",
   "execution_count": 114,
   "metadata": {},
   "outputs": [],
   "source": [
    "# Description:\n",
    "#   This simple reflex agent will \"suck\" when dirty and will move a random\n",
    "#   direction (randomly chosen from directions array) where it is not blocked\n",
    "#   by a wall.\n",
    "\n",
    "directions = [\"north\", \"south\", \"east\", \"west\"]\n",
    "\n",
    "def simple_reflex_agent(bumpers, dirty):\n",
    "    if dirty:\n",
    "        return \"suck\"\n",
    "    \n",
    "    action = np.random.choice(directions)\n",
    "    while(bumpers[action]):\n",
    "        action = np.random.choice(directions)\n",
    "    return action"
   ]
  },
  {
   "cell_type": "code",
   "execution_count": 115,
   "metadata": {},
   "outputs": [
    {
     "name": "stdout",
     "output_type": "stream",
     "text": [
      "Step  0  - Position: ( 4 ,  1 ) - Action:  north\n",
      "Step  1  - Position: ( 3 ,  1 ) - Action:  north\n",
      "Step  2  - Position: ( 2 ,  1 ) - Action:  north\n",
      "Step  3  - Position: ( 1 ,  1 ) - Action:  south\n",
      "Step  4  - Position: ( 2 ,  1 ) - Action:  north\n",
      "Step  5  - Position: ( 1 ,  1 ) - Action:  south\n",
      "Step  6  - Position: ( 2 ,  1 ) - Action:  south\n",
      "Step  7  - Position: ( 3 ,  1 ) - Action:  north\n",
      "Step  8  - Position: ( 2 ,  1 ) - Action:  west\n",
      "Step  9  - Position: ( 2 ,  0 ) - Action:  suck\n",
      "Step  10  - Position: ( 2 ,  0 ) - Action:  south\n",
      "Step  11  - Position: ( 3 ,  0 ) - Action:  east\n",
      "Step  12  - Position: ( 3 ,  1 ) - Action:  north\n",
      "Step  13  - Position: ( 2 ,  1 ) - Action:  east\n",
      "Step  14  - Position: ( 2 ,  2 ) - Action:  west\n",
      "Step  15  - Position: ( 2 ,  1 ) - Action:  north\n",
      "Step  16  - Position: ( 1 ,  1 ) - Action:  north\n",
      "Step  17  - Position: ( 0 ,  1 ) - Action:  south\n",
      "Step  18  - Position: ( 1 ,  1 ) - Action:  east\n",
      "Step  19  - Position: ( 1 ,  2 ) - Action:  suck\n"
     ]
    },
    {
     "data": {
      "text/plain": [
       "20"
      ]
     },
     "execution_count": 115,
     "metadata": {},
     "output_type": "execute_result"
    }
   ],
   "source": [
    "#calling\n",
    "sim_environment(simple_reflex_agent)"
   ]
  },
  {
   "cell_type": "markdown",
   "metadata": {},
   "source": [
    "## Task 3: Implement a model-based reflex agent [3 Point]\n",
    "\n",
    "This agent keeps track of the location and remembers where it has cleaned. Assume the agent knows how many squares the room has. It can move to a corner to determine its location and then is able to use more advanced navigation.\n",
    "\n",
    "Describe how you define the __agent state__ and how your agent works before implementing it. _Note on implementing the state in Python:_ [Examples](https://github.com/mhahsler/CS7320-AI/blob/master/Python_Code_Examples/store_agent_state_information.ipynb)"
   ]
  },
  {
   "cell_type": "markdown",
   "metadata": {},
   "source": [
    "Using the class based approach, I keep track of whether the robot has reached the northwest corner (where north and west diredctions hit a bumper). I also keep track of what direction the robot is moving which will be manipulated once it starts the cleaning process. Because I start the bot in the northwest corner, it will begin moving east.\n",
    "\n",
    "At the start of run, the robot will then move the necessary north and west steps to get to the northwest corner (where it hits bumpers in north and west directions). On the way to the corner, the robot will not clean the dirty squares that it lands on. Once the robot has reached the corner, it will navigate through the grid moving down and side to side (east, south, west, south, etc), cleaning dirty sqaures."
   ]
  },
  {
   "cell_type": "code",
   "execution_count": 116,
   "metadata": {},
   "outputs": [],
   "source": [
    "class ModelReflexAgent:\n",
    "    def __init__(self):\n",
    "        self.navigated_to_corner = False\n",
    "        #begin moving east\n",
    "        self.direction = \"east\"\n",
    "        \n",
    "    def move_to_corner(self, bumpers):\n",
    "        #moves north until x coord hits bumper\n",
    "        if not bumpers[\"west\"]:\n",
    "            return \"west\"\n",
    "        #moves west until y coord hits bumper\n",
    "        elif not bumpers[\"north\"]:\n",
    "            return \"north\"\n",
    "        #in northwest corner\n",
    "        else:\n",
    "            self.navigated_to_corner = True\n",
    "            return \"done\"\n",
    "        \n",
    "    def act(self, bumpers, dirty):\n",
    "        #moves to northwest corner if isn't there/hasn't been there\n",
    "        if not self.navigated_to_corner:\n",
    "            action = self.move_to_corner(bumpers)\n",
    "            if action != \"done\":\n",
    "                return action\n",
    "        if dirty:\n",
    "            return \"suck\"\n",
    "        \n",
    "        #determine whether to move in same direction\n",
    "        #or move one row down and change direction\n",
    "        if bumpers[self.direction]:\n",
    "            if self.direction == \"east\":\n",
    "                self.direction = \"west\"\n",
    "            elif self.direction == \"west\":\n",
    "                self.direction = \"east\"\n",
    "            #move one south to next row\n",
    "            return \"south\"\n",
    "        \n",
    "        #continue moving in same direction\n",
    "        return self.direction\n",
    "        "
   ]
  },
  {
   "cell_type": "code",
   "execution_count": 117,
   "metadata": {},
   "outputs": [
    {
     "name": "stdout",
     "output_type": "stream",
     "text": [
      "Step  0  - Position: ( 4 ,  1 ) - Action:  west\n",
      "Step  1  - Position: ( 4 ,  0 ) - Action:  north\n",
      "Step  2  - Position: ( 3 ,  0 ) - Action:  north\n",
      "Step  3  - Position: ( 2 ,  0 ) - Action:  north\n",
      "Step  4  - Position: ( 1 ,  0 ) - Action:  north\n",
      "Step  5  - Position: ( 0 ,  0 ) - Action:  east\n",
      "Step  6  - Position: ( 0 ,  1 ) - Action:  east\n",
      "Step  7  - Position: ( 0 ,  2 ) - Action:  east\n",
      "Step  8  - Position: ( 0 ,  3 ) - Action:  east\n",
      "Step  9  - Position: ( 0 ,  4 ) - Action:  south\n",
      "Step  10  - Position: ( 1 ,  4 ) - Action:  west\n",
      "Step  11  - Position: ( 1 ,  3 ) - Action:  west\n",
      "Step  12  - Position: ( 1 ,  2 ) - Action:  west\n",
      "Step  13  - Position: ( 1 ,  1 ) - Action:  suck\n",
      "Step  14  - Position: ( 1 ,  1 ) - Action:  west\n",
      "Step  15  - Position: ( 1 ,  0 ) - Action:  suck\n",
      "Step  16  - Position: ( 1 ,  0 ) - Action:  south\n",
      "Step  17  - Position: ( 2 ,  0 ) - Action:  suck\n",
      "Step  18  - Position: ( 2 ,  0 ) - Action:  east\n",
      "Step  19  - Position: ( 2 ,  1 ) - Action:  east\n"
     ]
    },
    {
     "data": {
      "text/plain": [
       "20"
      ]
     },
     "execution_count": 117,
     "metadata": {},
     "output_type": "execute_result"
    }
   ],
   "source": [
    "agent = ModelReflexAgent()\n",
    "sim_environment(agent.act)"
   ]
  },
  {
   "cell_type": "markdown",
   "metadata": {},
   "source": [
    "## Task 4: Simulation study [3 Points]\n",
    "\n",
    "Compare the performance (the performance measure is defined in the PEAS description above) of the agents using  environments of different size. E.g., $5 \\times 5$, $10 \\times 10$ and\n",
    "$100 \\times 100$. Use 100 random runs for each. Present the results in a suitable format (tables, graphs) and discuss the differences. \n",
    "\n",
    "Here is some help with [charts and tables.](https://github.com/mhahsler/CS7320-AI/blob/master/Python_Code_Examples/charts_and_tables.ipynb)"
   ]
  },
  {
   "cell_type": "code",
   "execution_count": null,
   "metadata": {},
   "outputs": [],
   "source": [
    "import matplotlib.pyplot as plt\n",
    "import numpy as np  \n",
    "import pandas as pd\n"
   ]
  },
  {
   "cell_type": "code",
   "execution_count": 133,
   "metadata": {},
   "outputs": [],
   "source": [
    "#run for simple reflex agent\n",
    "def graph():\n",
    "    agent_types = [\"Simple Randomized Agent\", \"Simple Reflex Agent\", \"Model-Based Reflex Agent\"]\n",
    "    floor_sizes = [5, 10, 100]\n",
    "    num_runs = 100\n",
    "    for a in range(len(agent_types)):\n",
    "        run_data = np.repeat(0, num_runs)\n",
    "        print(\"Data for\", agent_types[a], \":\\n\")\n",
    "        for n in floor_sizes:\n",
    "            for i in range(num_runs):\n",
    "                if a == 0:\n",
    "                    run_data[i] = sim_environment(simple_randomized_agent, n, 10000, False)\n",
    "                elif a == 1:\n",
    "                    run_data[i] = sim_environment(simple_reflex_agent, n, 10000, False)\n",
    "                elif a == 2:\n",
    "                    mra = ModelReflexAgent()\n",
    "                    run_data[i] = sim_environment(mra.act, n, 10000, False)\n",
    "\n",
    "            #printing data\n",
    "            print(\"Floor Size: \", n, \"x\", n)\n",
    "            print(\"Number of Runs: \", num_runs)\n",
    "            print(\"Average Performance: \", np.mean(run_data))\n",
    "\n",
    "            #plotting data\n",
    "            plt.hist(run_data, bins = 10)\n",
    "            plt.xlabel(\"Run Number\")\n",
    "            plt.ylabel(\"Number of Steps\")\n",
    "            plt.show()\n",
    "            \n",
    "        print(\"--------------------------------------------------------------------------------------------------------\")\n",
    "        "
   ]
  },
  {
   "cell_type": "code",
   "execution_count": 134,
   "metadata": {},
   "outputs": [
    {
     "name": "stdout",
     "output_type": "stream",
     "text": [
      "Data for Simple Randomized Agent :\n",
      "\n",
      "Floor Size:  5 x 5\n",
      "Number of Runs:  100\n",
      "Average Performance:  423.42\n"
     ]
    },
    {
     "data": {
      "image/png": "[encoded data removed]",
      "text/plain": [
       "<Figure size 432x288 with 1 Axes>"
      ]
     },
     "metadata": {
      "needs_background": "light"
     },
     "output_type": "display_data"
    },
    {
     "name": "stdout",
     "output_type": "stream",
     "text": [
      "Floor Size:  10 x 10\n",
      "Number of Runs:  100\n",
      "Average Performance:  2917.86\n"
     ]
    },
    {
     "data": {
      "image/png": "[encoded data removed]",
      "text/plain": [
       "<Figure size 432x288 with 1 Axes>"
      ]
     },
     "metadata": {
      "needs_background": "light"
     },
     "output_type": "display_data"
    },
    {
     "name": "stdout",
     "output_type": "stream",
     "text": [
      "Floor Size:  100 x 100\n",
      "Number of Runs:  100\n",
      "Average Performance:  10000.0\n"
     ]
    },
    {
     "data": {
      "image/png": "[encoded data removed]",
      "text/plain": [
       "<Figure size 432x288 with 1 Axes>"
      ]
     },
     "metadata": {
      "needs_background": "light"
     },
     "output_type": "display_data"
    },
    {
     "name": "stdout",
     "output_type": "stream",
     "text": [
      "--------------------------------------------------------------------------------------------------------\n",
      "Data for Simple Reflex Agent :\n",
      "\n",
      "Floor Size:  5 x 5\n",
      "Number of Runs:  100\n",
      "Average Performance:  100.72\n"
     ]
    },
    {
     "data": {
      "image/png": "[encoded data removed]",
      "text/plain": [
       "<Figure size 432x288 with 1 Axes>"
      ]
     },
     "metadata": {
      "needs_background": "light"
     },
     "output_type": "display_data"
    },
    {
     "name": "stdout",
     "output_type": "stream",
     "text": [
      "Floor Size:  10 x 10\n",
      "Number of Runs:  100\n",
      "Average Performance:  952.64\n"
     ]
    },
    {
     "data": {
      "image/png": "[encoded data removed]",
      "text/plain": [
       "<Figure size 432x288 with 1 Axes>"
      ]
     },
     "metadata": {
      "needs_background": "light"
     },
     "output_type": "display_data"
    },
    {
     "name": "stdout",
     "output_type": "stream",
     "text": [
      "Floor Size:  100 x 100\n",
      "Number of Runs:  100\n",
      "Average Performance:  10000.0\n"
     ]
    },
    {
     "data": {
      "image/png": "[encoded data removed]",
      "text/plain": [
       "<Figure size 432x288 with 1 Axes>"
      ]
     },
     "metadata": {
      "needs_background": "light"
     },
     "output_type": "display_data"
    },
    {
     "name": "stdout",
     "output_type": "stream",
     "text": [
      "--------------------------------------------------------------------------------------------------------\n",
      "Data for Model-Based Reflex Agent :\n",
      "\n",
      "Floor Size:  5 x 5\n",
      "Number of Runs:  100\n",
      "Average Performance:  28.69\n"
     ]
    },
    {
     "data": {
      "image/png": "[encoded data removed]",
      "text/plain": [
       "<Figure size 432x288 with 1 Axes>"
      ]
     },
     "metadata": {
      "needs_background": "light"
     },
     "output_type": "display_data"
    },
    {
     "name": "stdout",
     "output_type": "stream",
     "text": [
      "Floor Size:  10 x 10\n",
      "Number of Runs:  100\n",
      "Average Performance:  124.42\n"
     ]
    },
    {
     "data": {
      "image/png": "[encoded data removed]",
      "text/plain": [
       "<Figure size 432x288 with 1 Axes>"
      ]
     },
     "metadata": {
      "needs_background": "light"
     },
     "output_type": "display_data"
    },
    {
     "name": "stdout",
     "output_type": "stream",
     "text": [
      "Floor Size:  100 x 100\n",
      "Number of Runs:  100\n",
      "Average Performance:  10000.0\n"
     ]
    },
    {
     "data": {
      "image/png": "[encoded data removed]",
      "text/plain": [
       "<Figure size 432x288 with 1 Axes>"
      ]
     },
     "metadata": {
      "needs_background": "light"
     },
     "output_type": "display_data"
    },
    {
     "name": "stdout",
     "output_type": "stream",
     "text": [
      "--------------------------------------------------------------------------------------------------------\n"
     ]
    }
   ],
   "source": [
    "graph()"
   ]
  },
  {
   "cell_type": "markdown",
   "metadata": {},
   "source": [
    "Fill out the following table with the average performance measure for 100 random runs (you may also create this table with code):\n",
    "\n",
    "| Size     | Randomized Agent | Simple Reflex Agent | Model-based Reflex Agent |\n",
    "|----------|------------------|---------------------|--------------------------|\n",
    "| 5x5     |423.42 | 100.72| 28.69|\n",
    "| 10x10   |2917.86 | 952.64|124.42 |\n",
    "| 100x100 | 10000| 10000|10000|"
   ]
  },
  {
   "cell_type": "markdown",
   "metadata": {},
   "source": [
    "For all three agent types, as the number of floor squares increases, the number of steps needed to clean the whole foor increases as well. However, as the agent type gets more complex (randomized agent > simple reflex > model-based) the number of steps needed to clean the floor decreases significantly. Visually, the model-based reflex agent is able to clean the floor more quickly.\n",
    "\n",
    "For all three agents, it could not clean the 100x100 floor in the max steps given (10000 steps)."
   ]
  },
  {
   "cell_type": "markdown",
   "metadata": {},
   "source": [
    "## Task 5: Robustness of the agent implementations [1 Point] \n",
    "\n",
    "Describe how your agent implementations will perform \n",
    "\n",
    "* if it is put into a rectangular room with unknown size, \n",
    "* if the cleaning area can have an iregular shape (e.g., a hallway connecting two rooms), or \n",
    "* if the room contains obstacles (i.e., squares that it cannot pass through and trigger the bumper sensors)."
   ]
  },
  {
   "cell_type": "markdown",
   "metadata": {},
   "source": [
    "- If put into a rectangular room with an unknown size, it would not have any issues because it relies on the bumpers of each wall to find the corner and when to change direction to clean the next row of squares. It does not rely on the floor size and shape.\n",
    "- If it were to be placed into a room that is connected another through a hallway, it would miss any squares that are south of the opening to the hallway because the implementation works from top to bottom,\n",
    "- If placed in a room of obstacles, the robot would navigate around the object cleaning the rows of squares north and south of the row that the object is located in, however, it would not clean the rest of the row after the object has been hit."
   ]
  },
  {
   "cell_type": "markdown",
   "metadata": {},
   "source": [
    "## Graduate student advanced task: Obstacles [1 Point]\n",
    "\n",
    "__Undergraduate students:__ This is a bonus task you can attempt if you like [+1 Bonus point].\n",
    "\n",
    "1. Change your simulation environment tor run experiments for the following problem: Add random obstacle squares that also trigger the bumper sensor. The agent does not know where the obstacles are. Observe how this changes the performance of the three implementations.\n",
    "\n",
    "2. Describe what would need to be done to perform better with obstacles. Add code if you can. "
   ]
  },
  {
   "cell_type": "code",
   "execution_count": 190,
   "metadata": {},
   "outputs": [],
   "source": [
    "import random\n",
    "\n",
    "def sim_environment_advanced(agent, n = 5, max_steps = 20, verbose = True):\n",
    "    #randomize initial squares\n",
    "    squares = np.random.choice(a = [False, True], size = (n, n), p = [.8, .2])\n",
    "    \n",
    "    #set random obstacles\n",
    "    obstacles = []\n",
    "    for i in range(len(squares)):\n",
    "        row = []\n",
    "        for j in range(len(squares[i])):\n",
    "            if not squares[i][j]: #if not dirty\n",
    "                row.append(random.sample([True, False], 2)) #randomly decide to put obstacle there or not\n",
    "            else:\n",
    "                row.append(False)\n",
    "            \n",
    "        obstacles.append(row)\n",
    "    \n",
    "    #choose random start position\n",
    "    x = np.random.randint(n)\n",
    "    y = np.random.randint(n)\n",
    "    \n",
    "    curr_step = 0\n",
    "    while np.count_nonzero(squares) > 0 and curr_step < max_steps:\n",
    "        bumpers = {\n",
    "            'north': False,\n",
    "            'south': False,\n",
    "            'east': False,\n",
    "            'west': False\n",
    "        }\n",
    "        \n",
    "        # **Adding robot to respond to obstacles like bumpers**\n",
    "        #horizantal coord.\n",
    "        if x == 0 or obstacles[x - 1][y]:\n",
    "            bumpers['north'] = True\n",
    "        elif x == n - 1 or obstacles[x + 1][y]:\n",
    "            bumpers['south'] = True\n",
    "        #vertical coord.\n",
    "        if y == 0 or obstacles[x][y - 1]:\n",
    "            bumpers['west'] = True\n",
    "        elif y == n - 1 or obstacles[x][y + 1]:\n",
    "            bumpers['east'] = True\n",
    "            \n",
    "        dirty_square = squares[x][y]\n",
    "        #call agent function\n",
    "        agent_action = agent(bumpers, dirty_square)\n",
    "        \n",
    "        #react to agent action\n",
    "        if verbose:\n",
    "            print(\"Step \", curr_step, \" - Position: (\", x, \", \", y, \") - Action: \", agent_action)\n",
    "        if agent_action == \"suck\":\n",
    "            squares[x][y] = False\n",
    "        elif agent_action == \"north\" and x != 0:\n",
    "            x -= 1\n",
    "        elif agent_action == \"south\" and x != n - 1: \n",
    "            x += 1\n",
    "        elif agent_action == \"east\" and y != n - 1:\n",
    "            y += 1\n",
    "        elif agent_action == \"west\" and y != 0:\n",
    "            y -= 1\n",
    "            \n",
    "        curr_step += 1\n",
    "        \n",
    "    return curr_step"
   ]
  },
  {
   "cell_type": "code",
   "execution_count": 191,
   "metadata": {},
   "outputs": [],
   "source": [
    "#run for simple reflex agent\n",
    "def graph_advanced():\n",
    "    agent_types = [\"Simple Randomized Agent\", \"Simple Reflex Agent\", \"Model-Based Reflex Agent\"]\n",
    "    floor_sizes = [5]\n",
    "    num_runs = 100\n",
    "    for a in range(len(agent_types)):\n",
    "        run_data = np.repeat(0, num_runs)\n",
    "        print(\"Data for\", agent_types[a], \":\\n\")\n",
    "        for n in floor_sizes:\n",
    "            for i in range(num_runs):\n",
    "                if a == 0:\n",
    "                    run_data[i] = sim_environment_advanced(simple_randomized_agent, n, 10000, False)\n",
    "                elif a == 1:\n",
    "                    run_data[i] = sim_environment_advanced(simple_reflex_agent, n, 10000, False)\n",
    "                elif a == 2:\n",
    "                    mra = ModelReflexAgent()\n",
    "                    run_data[i] = sim_environment_advanced(mra.act, n, 10000, False)\n",
    "\n",
    "            #printing data\n",
    "            print(\"Floor Size: \", n, \"x\", n)\n",
    "            print(\"Number of Runs: \", num_runs)\n",
    "            print(\"Average Performance: \", np.mean(run_data))\n",
    "\n",
    "            #plotting data\n",
    "            plt.hist(run_data, bins = 10)\n",
    "            plt.xlabel(\"Run Number\")\n",
    "            plt.ylabel(\"Number of Steps\")\n",
    "            plt.show()\n",
    "            \n",
    "        print(\"--------------------------------------------------------------------------------------------------------\")\n",
    "        "
   ]
  },
  {
   "cell_type": "code",
   "execution_count": 192,
   "metadata": {},
   "outputs": [
    {
     "name": "stdout",
     "output_type": "stream",
     "text": [
      "Data for Simple Randomized Agent :\n",
      "\n",
      "Floor Size:  5 x 5\n",
      "Number of Runs:  100\n",
      "Average Performance:  387.56\n"
     ]
    },
    {
     "data": {
      "image/png": "[encoded data removed]",
      "text/plain": [
       "<Figure size 432x288 with 1 Axes>"
      ]
     },
     "metadata": {
      "needs_background": "light"
     },
     "output_type": "display_data"
    },
    {
     "name": "stdout",
     "output_type": "stream",
     "text": [
      "--------------------------------------------------------------------------------------------------------\n",
      "Data for Simple Reflex Agent :\n",
      "\n",
      "Floor Size:  5 x 5\n",
      "Number of Runs:  100\n",
      "Average Performance:  9700.69\n"
     ]
    },
    {
     "data": {
      "image/png": "[encoded data removed]",
      "text/plain": [
       "<Figure size 432x288 with 1 Axes>"
      ]
     },
     "metadata": {
      "needs_background": "light"
     },
     "output_type": "display_data"
    },
    {
     "name": "stdout",
     "output_type": "stream",
     "text": [
      "--------------------------------------------------------------------------------------------------------\n",
      "Data for Model-Based Reflex Agent :\n",
      "\n",
      "Floor Size:  5 x 5\n",
      "Number of Runs:  100\n",
      "Average Performance:  9600.27\n"
     ]
    },
    {
     "data": {
      "image/png": "[encoded data removed]",
      "text/plain": [
       "<Figure size 432x288 with 1 Axes>"
      ]
     },
     "metadata": {
      "needs_background": "light"
     },
     "output_type": "display_data"
    },
    {
     "name": "stdout",
     "output_type": "stream",
     "text": [
      "--------------------------------------------------------------------------------------------------------\n"
     ]
    }
   ],
   "source": [
    "graph_advanced()"
   ]
  },
  {
   "cell_type": "markdown",
   "metadata": {},
   "source": [
    "1) Adding in obstacles to the floor plan significantly increases the number of steps needed to take for all agents to clean the floor, even for a small 5x5 floor. Both reflex agents aren't even able to clean before reaching the max amount of steps (10,000)\n",
    "2) In order to operate better with obstacles, the robot should be able to keep track of where the obstacles are when it hits them, so it can avoid them the next time it is about to step onto the same square. Once the square is flagged as a bumper, the robot can trace the bumper to see if it is an obstacle (assuming the obstacle is always 1 square big) or a wall (more than one square). It can then return to its original location and then avoid it by keeping on the same path (changing direction and changing back to path) or changing directions entirely."
   ]
  },
  {
   "cell_type": "markdown",
   "metadata": {},
   "source": [
    "## More advanced tasks to think about\n",
    "\n",
    "You can think about these:\n",
    "\n",
    "* __Unknown environment with obstacles:__ Implement an agent for an environment where the agent does not know how large the environment is (we assume it is rectangular), where it starts or where the obstacles are. An option would be to always move to the closest unchecked/uncleaned square.\n",
    "\n",
    "* __Utility-based agent:__ Change the environment, so each square has a fixed probability of getting dirty again. We assume the agent has learned this information over time. For the implementation, we give this information to the agent as a 2-dimensional array of probabilities  Cleaning one dirty square produces a utility of 1. Implement a utility-based agent that maximizes the expected utility over one full charge which lasts for 10000 time steps. This is very tricky!"
   ]
  },
  {
   "cell_type": "code",
   "execution_count": 13,
   "metadata": {},
   "outputs": [],
   "source": [
    "# Your ideas/code"
   ]
  }
 ],
 "metadata": {
  "kernelspec": {
   "display_name": "Python 3 (ipykernel)",
   "language": "python",
   "name": "python3"
  },
  "language_info": {
   "codemirror_mode": {
    "name": "ipython",
    "version": 3
   },
   "file_extension": ".py",
   "mimetype": "text/x-python",
   "name": "python",
   "nbconvert_exporter": "python",
   "pygments_lexer": "ipython3",
   "version": "3.9.6"
  }
 },
 "nbformat": 4,
 "nbformat_minor": 4
}

{
 "cells": [
  {
   "cell_type": "markdown",
   "metadata": {},
   "source": [
    "# Solving the n-Queens Problem using Local Search\n",
    "\n",
    "## Instructions\n",
    "\n",
    "Total Points: 10\n",
    "\n",
    "Complete this notebook and submit it. The notebook needs to be a complete project report with \n",
    "\n",
    "* your implementation,\n",
    "* documentation including a short discussion of how your implementation works and your design choices, and\n",
    "* experimental results (e.g., tables and charts with simulation results) with a short discussion of what they mean. \n",
    "\n",
    "Use the provided notebook cells and insert additional code and markdown cells as needed."
   ]
  },
  {
   "cell_type": "markdown",
   "metadata": {},
   "source": [
    "## The n-Queens Problem\n",
    "\n",
    "* __Goal:__ Find an arrangement of $n$ queens on a $n \\times n$ chess board so that no queen is on the same row, column or diagonal as any other queen.\n",
    "\n",
    "* __State space:__ An arrangement of the queens on the board. We restrict the state space to arrangements where there is only a single queen per column. We represent a state as an integer vector $\\mathbf{q} = \\{q_1, q_2, \\dots, q_n\\}$, each number representing the row positions of the queens from left to right. We will call a state a \"board.\"\n",
    "\n",
    "* __Objective function:__ The number of pairwise conflicts (i.e., two queens in the same row/column/diagonal).\n",
    "The optimization problem is to find the optimal arrangement $\\mathbf{q}^*$ of $n$ queens on the board can be written as:\n",
    "\n",
    "  > minimize: $\\mathrm{conflicts}(\\mathbf{q})$\n",
    "  >\n",
    "  > subject to: $\\mathbf{q} \\ \\text{contains only one queen per column}$\n",
    "\n",
    "  Note: the constraint (subject to) is enforced by the definition of the state space.\n",
    "\n",
    "* __Local improvement move:__ Move one queen to a different row in its column.\n",
    "\n",
    "* __Termination:__ For this problem there is always an arrangement $\\mathbf{q}^*$ with $\\mathrm{conflicts}(\\mathbf{q}^*) = 0$, however, the local improvement moves might end up in a local minimum. "
   ]
  },
  {
   "cell_type": "markdown",
   "metadata": {},
   "source": [
    "## Helper functions"
   ]
  },
  {
   "cell_type": "code",
   "execution_count": 54,
   "metadata": {},
   "outputs": [],
   "source": [
    "import numpy as np\n",
    "import matplotlib.pyplot as plt\n",
    "from matplotlib import colors\n",
    "\n",
    "np.random.seed(1234)\n",
    "\n",
    "\n",
    "def random_board(n):\n",
    "    \"\"\"Creates a random board of size n x n. Note that only a single queen is placed in each column!\"\"\"\n",
    "    \n",
    "    return(np.random.randint(0,n, size = n))\n",
    "\n",
    "def comb2(n): return n*(n-1)//2 # this is n choose 2 equivalent to math.comb(n, 2); // is int division\n",
    "\n",
    "def conflicts(board):\n",
    "    \"\"\"Caclulate the number of conflicts, i.e., the objective function.\"\"\"\n",
    "\n",
    "    n = len(board)\n",
    "    \n",
    "    horizontal_cnt = [0] * n\n",
    "    diagonal1_cnt = [0] * 2 * n\n",
    "    diagonal2_cnt = [0] * 2 * n\n",
    "    \n",
    "    for i in range(n):\n",
    "        horizontal_cnt[board[i]] += 1\n",
    "        diagonal1_cnt[i + board[i]] += 1\n",
    "        diagonal2_cnt[i - board[i] + n] += 1\n",
    "    \n",
    "    return sum(map(comb2, horizontal_cnt + diagonal1_cnt + diagonal2_cnt))\n",
    "\n",
    "\n",
    "def show_board(board, cols = ['white', 'gray'], fontsize = 48):  \n",
    "    \"\"\"display the board\"\"\"\n",
    "    \n",
    "    n = len(board)\n",
    "    \n",
    "    # create chess board display\n",
    "    display = np.zeros([n,n])\n",
    "    for i in range(n):\n",
    "        for j in range(n):\n",
    "            if (((i+j) % 2) != 0): \n",
    "                display[i,j] = 1\n",
    "    \n",
    "    cmap = colors.ListedColormap(cols)\n",
    "    fig, ax = plt.subplots()\n",
    "    ax.imshow(display, cmap = cmap, \n",
    "              norm = colors.BoundaryNorm(range(len(cols)+1), cmap.N))\n",
    "    ax.set_xticks([])\n",
    "    ax.set_yticks([])\n",
    "    \n",
    "    # place queens. Note: Unicode u265B is a black queen\n",
    "    for j in range(n):\n",
    "        plt.text(j, board[j], u\"\\u265B\", fontsize = fontsize, \n",
    "                 horizontalalignment = 'center',\n",
    "                 verticalalignment = 'center')\n",
    "    \n",
    "    print(f\"Board with {conflicts(board)} conflicts.\")\n",
    "    plt.show()"
   ]
  },
  {
   "cell_type": "markdown",
   "metadata": {},
   "source": [
    "## Create a board"
   ]
  },
  {
   "cell_type": "code",
   "execution_count": 55,
   "metadata": {},
   "outputs": [
    {
     "name": "stdout",
     "output_type": "stream",
     "text": [
      "Board with 4 conflicts.\n"
     ]
    },
    {
     "data": {
      "image/png": "[encoded data removed]",
      "text/plain": [
       "<Figure size 432x288 with 1 Axes>"
      ]
     },
     "metadata": {},
     "output_type": "display_data"
    },
    {
     "name": "stdout",
     "output_type": "stream",
     "text": [
      "Queens (left to right) are at rows: [3 3 2 1]\n",
      "Number of conflicts: 4\n"
     ]
    }
   ],
   "source": [
    "board = random_board(4)\n",
    "\n",
    "show_board(board)\n",
    "print(f\"Queens (left to right) are at rows: {board}\")\n",
    "print(f\"Number of conflicts: {conflicts(board)}\")"
   ]
  },
  {
   "cell_type": "markdown",
   "metadata": {},
   "source": [
    "A board $4 \\times 4$ with no conflicts:"
   ]
  },
  {
   "cell_type": "code",
   "execution_count": 56,
   "metadata": {},
   "outputs": [
    {
     "name": "stdout",
     "output_type": "stream",
     "text": [
      "Board with 0 conflicts.\n"
     ]
    },
    {
     "data": {
      "image/png": "[encoded data removed]",
      "text/plain": [
       "<Figure size 432x288 with 1 Axes>"
      ]
     },
     "metadata": {},
     "output_type": "display_data"
    }
   ],
   "source": [
    "board = [1,3,0,2]\n",
    "show_board(board)"
   ]
  },
  {
   "cell_type": "markdown",
   "metadata": {},
   "source": [
    "## Steepest-ascend Hill Climbing Search [2 Points]\n",
    "\n",
    "Calculate the objective function for all local moves (move each queen within its column) and always choose the best among all local moves. If there are no local moves that improve the objective, then you have reached a local optimum. "
   ]
  },
  {
   "cell_type": "code",
   "execution_count": 57,
   "metadata": {},
   "outputs": [],
   "source": [
    "def get_poss_moves(board, n):\n",
    "    pos = []\n",
    "    for i in range(n):\n",
    "        pos.append(i)\n",
    "    temp = pos.copy()\n",
    "    moves = []\n",
    "    for i in range(n):\n",
    "        m = [j for j in pos if j != board[i]]\n",
    "        moves.append(m)\n",
    "                \n",
    "    return moves\n",
    "\n",
    "def get_uphill(board, n, moves):\n",
    "    conflict = conflicts(board)\n",
    "    uphill = []\n",
    "    for i, m in enumerate(moves):\n",
    "        temp = board.copy()\n",
    "        for j in m:\n",
    "            temp[i] = j\n",
    "            if conflicts(temp) < conflict:\n",
    "                uphill = [i, j]\n",
    "                conflict = conflicts(temp)\n",
    "                \n",
    "    return uphill\n",
    "\n",
    "def steep_ascend(n, moves):\n",
    "    board = random_board(n)\n",
    "    \n",
    "    if conflicts(board) == 0:\n",
    "        return 0, 0, board, False\n",
    "    \n",
    "    cnt = iters = 0\n",
    "    while conflicts(board) != 0:\n",
    "        poss_moves = get_poss_moves(board, n)\n",
    "        uphill_move = get_uphill(board, n, poss_moves)\n",
    "        \n",
    "        iters += 1\n",
    "        if len(uphill_move) != 0:\n",
    "            board[uphill_move[0]] = uphill_move[1]\n",
    "            cnt = 0\n",
    "        else:\n",
    "            cnt += 1\n",
    "            \n",
    "        if cnt > moves:\n",
    "            return iters, conflicts(board), board, True\n",
    "    \n",
    "    return iters, conflicts(board), board, False"
   ]
  },
  {
   "cell_type": "code",
   "execution_count": 58,
   "metadata": {},
   "outputs": [
    {
     "name": "stdout",
     "output_type": "stream",
     "text": [
      "Board #1\n",
      "Solved\n",
      "Conflicts: 0\n",
      "Iterations: 2\n",
      "Board with 0 conflicts.\n"
     ]
    },
    {
     "data": {
      "image/png": "[encoded data removed]",
      "text/plain": [
       "<Figure size 432x288 with 1 Axes>"
      ]
     },
     "metadata": {},
     "output_type": "display_data"
    },
    {
     "name": "stdout",
     "output_type": "stream",
     "text": [
      "Board #2\n",
      "Solved\n",
      "Conflicts: 0\n",
      "Iterations: 2\n",
      "Board with 0 conflicts.\n"
     ]
    },
    {
     "data": {
      "image/png": "[encoded data removed]",
      "text/plain": [
       "<Figure size 432x288 with 1 Axes>"
      ]
     },
     "metadata": {},
     "output_type": "display_data"
    },
    {
     "name": "stdout",
     "output_type": "stream",
     "text": [
      "Board #3\n",
      "Solved\n",
      "Conflicts: 0\n",
      "Iterations: 2\n",
      "Board with 0 conflicts.\n"
     ]
    },
    {
     "data": {
      "image/png": "[encoded data removed]",
      "text/plain": [
       "<Figure size 432x288 with 1 Axes>"
      ]
     },
     "metadata": {},
     "output_type": "display_data"
    },
    {
     "name": "stdout",
     "output_type": "stream",
     "text": [
      "Board #4\n",
      "Stuck at local max.\n",
      "Conflicts: 1\n",
      "Iterations: 103\n",
      "Board with 1 conflicts.\n"
     ]
    },
    {
     "data": {
      "image/png": "[encoded data removed]",
      "text/plain": [
       "<Figure size 432x288 with 1 Axes>"
      ]
     },
     "metadata": {},
     "output_type": "display_data"
    }
   ],
   "source": [
    "for i in range(4):\n",
    "    output = steep_ascend(4, 100)\n",
    "    print(\"Board #\" + str(i+1))\n",
    "    if output[3]:\n",
    "        print(\"Stuck at local max.\")\n",
    "    else:\n",
    "        print(\"Solved\")\n",
    "    print(\"Conflicts: \" + str(output[1]))\n",
    "    print(\"Iterations: \"+ str(output[0]))\n",
    "    show_board(output[2])  "
   ]
  },
  {
   "cell_type": "markdown",
   "metadata": {},
   "source": [
    "## Stochastic Hill Climbing 1 [1 Point]\n",
    "\n",
    "Chooses randomly from among all uphill moves. Make the probability of the choice proportional to the steepness of the uphill move (i.e., with the improvement in conflicts). "
   ]
  },
  {
   "cell_type": "code",
   "execution_count": 59,
   "metadata": {},
   "outputs": [],
   "source": [
    "import random\n",
    "\n",
    "def stochastic1(n, moves):\n",
    "    board = random_board(n)\n",
    "    \n",
    "    if conflicts(board) == 0:\n",
    "        return 0, 0, board, False\n",
    "    \n",
    "    cnt = iters = 0\n",
    "    while conflicts(board) != 0:\n",
    "        poss_moves = get_poss_moves(board, n)\n",
    "        uphill_moves = get_uphill(board, n, poss_moves)\n",
    "        \n",
    "        iters += 1\n",
    "        if len(uphill_moves) != 0:\n",
    "            random.shuffle(uphill_moves)\n",
    "            board[uphill_moves[0]] = uphill_moves[1]\n",
    "            cnt = 0\n",
    "        else:\n",
    "            cnt += 1\n",
    "            \n",
    "        if cnt > moves:\n",
    "            return iters, conflicts(board), board, True\n",
    "    \n",
    "    return iters, conflicts(board), board, False"
   ]
  },
  {
   "cell_type": "code",
   "execution_count": 60,
   "metadata": {},
   "outputs": [
    {
     "name": "stdout",
     "output_type": "stream",
     "text": [
      "Board #1\n",
      "Stuck at local max.\n",
      "Conflicts: 1\n",
      "Iterations: 106\n",
      "Board with 1 conflicts.\n"
     ]
    },
    {
     "data": {
      "image/png": "[encoded data removed]",
      "text/plain": [
       "<Figure size 432x288 with 1 Axes>"
      ]
     },
     "metadata": {},
     "output_type": "display_data"
    },
    {
     "name": "stdout",
     "output_type": "stream",
     "text": [
      "Board #2\n",
      "Stuck at local max.\n",
      "Conflicts: 1\n",
      "Iterations: 103\n",
      "Board with 1 conflicts.\n"
     ]
    },
    {
     "data": {
      "image/png": "[encoded data removed]",
      "text/plain": [
       "<Figure size 432x288 with 1 Axes>"
      ]
     },
     "metadata": {},
     "output_type": "display_data"
    },
    {
     "name": "stdout",
     "output_type": "stream",
     "text": [
      "Board #3\n",
      "Solved\n",
      "Conflicts: 0\n",
      "Iterations: 2\n",
      "Board with 0 conflicts.\n"
     ]
    },
    {
     "data": {
      "image/png": "[encoded data removed]",
      "text/plain": [
       "<Figure size 432x288 with 1 Axes>"
      ]
     },
     "metadata": {},
     "output_type": "display_data"
    },
    {
     "name": "stdout",
     "output_type": "stream",
     "text": [
      "Board #4\n",
      "Solved\n",
      "Conflicts: 0\n",
      "Iterations: 5\n",
      "Board with 0 conflicts.\n"
     ]
    },
    {
     "data": {
      "image/png": "[encoded data removed]",
      "text/plain": [
       "<Figure size 432x288 with 1 Axes>"
      ]
     },
     "metadata": {},
     "output_type": "display_data"
    }
   ],
   "source": [
    "for i in range(4):\n",
    "    output = stochastic1(4, 100)\n",
    "    print(\"Board #\" + str(i+1))\n",
    "    if output[3]:\n",
    "        print(\"Stuck at local max.\")\n",
    "    else:\n",
    "        print(\"Solved\")\n",
    "    print(\"Conflicts: \" + str(output[1]))\n",
    "    print(\"Iterations: \" + str(output[0]))\n",
    "    show_board(output[2])  "
   ]
  },
  {
   "cell_type": "markdown",
   "metadata": {},
   "source": [
    "## Stochastic Hill Climbing 2 [2 Point]\n",
    "\n",
    "A popular version of stochastic hill climbing generates only a single random local neighbor at a time and accept it if it has a better objective function value than the current state. This is very efficient if each state has many possible successor states. This method is called \"First-choice hill climbing\" in the textbook.\n",
    "\n",
    "__Notes:__ \n",
    "\n",
    "* Detecting local optima is tricky! You can, for example, stop if you were not able to improve the objective function during the last $x$ tries."
   ]
  },
  {
   "cell_type": "code",
   "execution_count": 61,
   "metadata": {},
   "outputs": [],
   "source": [
    "def find_neighbor(board, n, iters):\n",
    "    neighbor = []\n",
    "    rand_i = random.randint(0, n - 1)\n",
    "    conflict = conflicts(board)\n",
    "    temp = board.copy()\n",
    "    cnt = 0\n",
    "    \n",
    "    while len(neighbor) <= 0:\n",
    "        for i in range(n):\n",
    "            if board[rand_i] != i:\n",
    "                temp[rand_i] = i\n",
    "                if conflicts(temp) < conflict:\n",
    "                    neighbor = [rand_i, i]\n",
    "        rand_i = random.randint(0, n - 1)\n",
    "        cnt += 1\n",
    "        if cnt > iters:\n",
    "            return neighbor\n",
    "        \n",
    "    return neighbor\n",
    "\n",
    "def stochastic2(n, moves):\n",
    "    board = random_board(n)\n",
    "    \n",
    "    if conflicts(board) == 0:\n",
    "        return 0, 0, board, False\n",
    "    \n",
    "    cnt = iters = 0\n",
    "    while conflicts(board) != 0:\n",
    "        neighbor = find_neighbor(board, n, moves)\n",
    "        iters += 1\n",
    "        \n",
    "        if len(neighbor) != 0:\n",
    "            board[neighbor[0]] = neighbor[1]\n",
    "            cnt = 0\n",
    "        else:\n",
    "            cnt += 1\n",
    "            \n",
    "        if cnt > moves:\n",
    "            return iters, conflicts(board), board, True\n",
    "    \n",
    "    return iters, conflicts(board), board, False"
   ]
  },
  {
   "cell_type": "code",
   "execution_count": 62,
   "metadata": {},
   "outputs": [
    {
     "name": "stdout",
     "output_type": "stream",
     "text": [
      "Board #1\n",
      "Solved\n",
      "Conflicts: 0\n",
      "Iterations: 59\n",
      "Board with 0 conflicts.\n"
     ]
    },
    {
     "data": {
      "image/png": "[encoded data removed]",
      "text/plain": [
       "<Figure size 432x288 with 1 Axes>"
      ]
     },
     "metadata": {},
     "output_type": "display_data"
    },
    {
     "name": "stdout",
     "output_type": "stream",
     "text": [
      "Board #2\n",
      "Solved\n",
      "Conflicts: 0\n",
      "Iterations: 6\n",
      "Board with 0 conflicts.\n"
     ]
    },
    {
     "data": {
      "image/png": "[encoded data removed]",
      "text/plain": [
       "<Figure size 432x288 with 1 Axes>"
      ]
     },
     "metadata": {},
     "output_type": "display_data"
    },
    {
     "name": "stdout",
     "output_type": "stream",
     "text": [
      "Board #3\n",
      "Solved\n",
      "Conflicts: 0\n",
      "Iterations: 17\n",
      "Board with 0 conflicts.\n"
     ]
    },
    {
     "data": {
      "image/png": "[encoded data removed]",
      "text/plain": [
       "<Figure size 432x288 with 1 Axes>"
      ]
     },
     "metadata": {},
     "output_type": "display_data"
    },
    {
     "name": "stdout",
     "output_type": "stream",
     "text": [
      "Board #4\n",
      "Solved\n",
      "Conflicts: 0\n",
      "Iterations: 9\n",
      "Board with 0 conflicts.\n"
     ]
    },
    {
     "data": {
      "image/png": "[encoded data removed]",
      "text/plain": [
       "<Figure size 432x288 with 1 Axes>"
      ]
     },
     "metadata": {},
     "output_type": "display_data"
    }
   ],
   "source": [
    "for i in range(4):\n",
    "    output = stochastic2(4, 100)\n",
    "    print(\"Board #\" + str(i+1))\n",
    "    if output[3]:\n",
    "        print(\"Stuck at local max.\")\n",
    "    else:\n",
    "        print(\"Solved\")\n",
    "    print(\"Conflicts: \" + str(output[1]))\n",
    "    print(\"Iterations: \"+ str(output[0]))\n",
    "    show_board(output[2])  "
   ]
  },
  {
   "cell_type": "markdown",
   "metadata": {},
   "source": [
    "## Hill Climbing Search with Random Restarts [1 Point]\n",
    "\n",
    "Hill climbing will often end up in local optima. Restart the each of the three hill climbing algorithm up to 100 times with a random board to find a better (hopefully optimal) solution.   "
   ]
  },
  {
   "cell_type": "code",
   "execution_count": 63,
   "metadata": {},
   "outputs": [],
   "source": [
    "def random_steep(n, moves, restarts):\n",
    "    board = random_board(n)\n",
    "    \n",
    "    if conflicts(board) == 0:\n",
    "        return 0, 0, board, False\n",
    "    \n",
    "    cnt = iters = 0\n",
    "    while conflicts(board) != 0:\n",
    "        poss_moves = get_poss_moves(board, n)\n",
    "        uphill_move = get_uphill(board, n, poss_moves)\n",
    "        \n",
    "        iters += 1\n",
    "        if len(uphill_move) != 0:\n",
    "            board[uphill_move[0]] = uphill_move[1]\n",
    "            cnt = 0\n",
    "        else:\n",
    "            cnt += 1\n",
    "            \n",
    "        if cnt > moves:\n",
    "            board = random_board(n)\n",
    "            cnt = 0\n",
    "            restarts -= 1\n",
    "        if restarts == 0:\n",
    "            return iters, conflicts(board), board, True\n",
    "    \n",
    "    return iters, conflicts(board), board, False\n",
    "        \n",
    "def random_sto1(n, moves, restarts):\n",
    "    board = random_board(n)\n",
    "    \n",
    "    if conflicts(board) == 0:\n",
    "        return 0, 0, board, False\n",
    "    \n",
    "    cnt = iters = 0\n",
    "    while conflicts(board) != 0:\n",
    "        poss_moves = get_poss_moves(board, n)\n",
    "        uphill_moves = get_uphill(board, n, poss_moves)\n",
    "        \n",
    "        iters += 1\n",
    "        if len(uphill_moves) != 0:\n",
    "            random.shuffle(uphill_moves)\n",
    "            board[uphill_moves[0]] = uphill_moves[1]\n",
    "            cnt = 0\n",
    "        else:\n",
    "            cnt += 1\n",
    "            \n",
    "        if cnt > moves:\n",
    "            board = random_board(n)\n",
    "            cnt = 0\n",
    "            restarts -= 1\n",
    "        if restarts == 0:\n",
    "            return iters, conflicts(board), board, True\n",
    "    \n",
    "    return iters, conflicts(board), board, False\n",
    "\n",
    "def random_sto2(n, moves, restarts):\n",
    "    board = random_board(n)\n",
    "    \n",
    "    if conflicts(board) == 0:\n",
    "        return 0, 0, board, False\n",
    "    \n",
    "    cnt = iters = 0\n",
    "    while conflicts(board) != 0:\n",
    "        neighbor = find_neighbor(board, n, moves)\n",
    "        iters += 1\n",
    "        \n",
    "        if len(neighbor) != 0:\n",
    "            board[neighbor[0]] = neighbor[1]\n",
    "            cnt = 0\n",
    "        else:\n",
    "            cnt += 1\n",
    "            \n",
    "        if cnt > moves:\n",
    "            board = random_board(n)\n",
    "            cnt = 0\n",
    "            restarts -= 1\n",
    "        if restarts == 0:\n",
    "            return iters, conflicts(board), board, True\n",
    "    \n",
    "    return iters, conflicts(board), board, False"
   ]
  },
  {
   "cell_type": "code",
   "execution_count": 64,
   "metadata": {},
   "outputs": [
    {
     "name": "stdout",
     "output_type": "stream",
     "text": [
      "Steepest Ascend Hill-Climbing\n",
      "Solved\n",
      "Conflicts: 0\n",
      "Iterations: 322\n",
      "Board with 0 conflicts.\n"
     ]
    },
    {
     "data": {
      "image/png": "[encoded data removed]",
      "text/plain": [
       "<Figure size 432x288 with 1 Axes>"
      ]
     },
     "metadata": {},
     "output_type": "display_data"
    },
    {
     "name": "stdout",
     "output_type": "stream",
     "text": [
      "Stochastic Hill Climbing 1\n",
      "Solved\n",
      "Conflicts: 0\n",
      "Iterations: 5\n",
      "Board with 0 conflicts.\n"
     ]
    },
    {
     "data": {
      "image/png": "[encoded data removed]",
      "text/plain": [
       "<Figure size 432x288 with 1 Axes>"
      ]
     },
     "metadata": {},
     "output_type": "display_data"
    },
    {
     "name": "stdout",
     "output_type": "stream",
     "text": [
      "Stochastic Hill Climbing 2\n",
      "Solved\n",
      "Conflicts: 0\n",
      "Iterations: 16\n",
      "Board with 0 conflicts.\n"
     ]
    },
    {
     "data": {
      "image/png": "[encoded data removed]",
      "text/plain": [
       "<Figure size 432x288 with 1 Axes>"
      ]
     },
     "metadata": {},
     "output_type": "display_data"
    }
   ],
   "source": [
    "algos = [\"Steepest Ascend Hill-Climbing\", \"Stochastic Hill Climbing 1\", \"Stochastic Hill Climbing 2\"]\n",
    "\n",
    "for i in range(len(algos)):\n",
    "    if i == 0:\n",
    "        output = random_steep(4, 100, 100)\n",
    "    if i == 1:\n",
    "        output = random_sto1(4, 100, 100)\n",
    "    else:\n",
    "        output = random_sto2(4, 100, 100)\n",
    "    \n",
    "    print(algos[i])\n",
    "    if output[3]:\n",
    "        print(\"Stuck at local max.\")\n",
    "    else:\n",
    "        print(\"Solved\")\n",
    "    print(\"Conflicts: \" + str(output[1]))\n",
    "    print(\"Iterations: \"+ str(output[0]))\n",
    "    show_board(output[2]) "
   ]
  },
  {
   "cell_type": "markdown",
   "metadata": {},
   "source": [
    "## Simulated Annealing [2 Points]\n",
    "\n",
    "Simulated annealing is a form of stochastic hill climbing that also allows downhill moves with a probability proportional to the temperature. This is done to avoid local optima. The temperature is decreased in every iteration following an annealing schedule. You have to experiment with the annealing schedule (Google to find guidance on this)."
   ]
  },
  {
   "cell_type": "code",
   "execution_count": 65,
   "metadata": {},
   "outputs": [],
   "source": [
    "def find_moves(board, n, maxIters, temp):\n",
    "    moves = []\n",
    "    rand_i = random.randint(0, n - 1)\n",
    "    conflict = conflicts(board)\n",
    "    temp_board = board.copy()\n",
    "    cnt = 0\n",
    "    \n",
    "    while len(moves) <= 0:\n",
    "        for i in range(n):\n",
    "            if board[rand_i] != i:\n",
    "                temp_board[rand_i] = i\n",
    "                if conflicts(temp_board) < conflict:\n",
    "                    moves = [rand_i, i]\n",
    "                else:\n",
    "                    ran = random.random()\n",
    "                    if ran < temp:\n",
    "                        moves = [rand_i, i]\n",
    "                        \n",
    "        rand_i = random.randint(0, n - 1)\n",
    "        cnt += 1\n",
    "        if cnt > maxIters:\n",
    "            return moves\n",
    "        \n",
    "    return moves\n",
    "\n",
    "def sim_annealing(n, maxMoves, maxIters):\n",
    "    board = random_board(n)\n",
    "    \n",
    "    if conflicts(board) == 0:\n",
    "        return 0, 0, board, False\n",
    "    \n",
    "    cnt = iters = 0\n",
    "    while conflicts(board) != 0:\n",
    "        iters += 1\n",
    "        temperature = 50 * (.8 ** iters)\n",
    "        moves = find_moves(board, n, maxIters, temperature)\n",
    "        \n",
    "        if len(moves) != 0:\n",
    "            board[moves[0]] = moves[1]\n",
    "            cnt = 0\n",
    "        else:\n",
    "            cnt += 1\n",
    "            \n",
    "        if cnt > maxMoves or iters > maxIters:\n",
    "            return iters, conflicts(board), board, True\n",
    "        \n",
    "    return iters, conflicts(board), board, False"
   ]
  },
  {
   "cell_type": "code",
   "execution_count": 66,
   "metadata": {},
   "outputs": [
    {
     "name": "stdout",
     "output_type": "stream",
     "text": [
      "Board #1\n",
      "Solved\n",
      "Conflicts: 0\n",
      "Iterations: 34\n",
      "Board with 0 conflicts.\n"
     ]
    },
    {
     "data": {
      "image/png": "[encoded data removed]",
      "text/plain": [
       "<Figure size 432x288 with 1 Axes>"
      ]
     },
     "metadata": {},
     "output_type": "display_data"
    },
    {
     "name": "stdout",
     "output_type": "stream",
     "text": [
      "Board #2\n",
      "Solved\n",
      "Conflicts: 0\n",
      "Iterations: 42\n",
      "Board with 0 conflicts.\n"
     ]
    },
    {
     "data": {
      "image/png": "[encoded data removed]",
      "text/plain": [
       "<Figure size 432x288 with 1 Axes>"
      ]
     },
     "metadata": {},
     "output_type": "display_data"
    },
    {
     "name": "stdout",
     "output_type": "stream",
     "text": [
      "Board #3\n",
      "Solved\n",
      "Conflicts: 0\n",
      "Iterations: 23\n",
      "Board with 0 conflicts.\n"
     ]
    },
    {
     "data": {
      "image/png": "[encoded data removed]",
      "text/plain": [
       "<Figure size 432x288 with 1 Axes>"
      ]
     },
     "metadata": {},
     "output_type": "display_data"
    },
    {
     "name": "stdout",
     "output_type": "stream",
     "text": [
      "Board #4\n",
      "Solved\n",
      "Conflicts: 0\n",
      "Iterations: 27\n",
      "Board with 0 conflicts.\n"
     ]
    },
    {
     "data": {
      "image/png": "[encoded data removed]",
      "text/plain": [
       "<Figure size 432x288 with 1 Axes>"
      ]
     },
     "metadata": {},
     "output_type": "display_data"
    }
   ],
   "source": [
    "for i in range(4):\n",
    "    output = sim_annealing(4, 100, 500)\n",
    "    print(\"Board #\" + str(i+1))\n",
    "    if output[3]:\n",
    "        print(\"Stuck at local max.\")\n",
    "    else:\n",
    "        print(\"Solved\")\n",
    "    print(\"Conflicts: \" + str(output[1]))\n",
    "    print(\"Iterations: \"+ str(output[0]))\n",
    "    show_board(output[2])  "
   ]
  },
  {
   "cell_type": "markdown",
   "metadata": {},
   "source": [
    "## Compare Performance [2 Points]\n",
    "\n",
    "Use runtime and objective function value to compare the algorithms. \n",
    "\n",
    "* Use boards of different sizes to explore how the different algorithms perform. Make sure that you run the algorithms for each board size several times (at least 10 times) with different starting boards and report averages.\n",
    "\n",
    "* How do the algorithms scale with problem size?\n",
    "\n",
    "* What is the largest board each algorithm can solve in a reasonable amount time?"
   ]
  },
  {
   "cell_type": "markdown",
   "metadata": {},
   "source": [
    "The example below times creating 100 random boards and calculating the conflicts. Reported is the average run time over `N = 100` runs.\n",
    "\n",
    "For timing you can use the `time` package."
   ]
  },
  {
   "cell_type": "code",
   "execution_count": 67,
   "metadata": {},
   "outputs": [
    {
     "name": "stdout",
     "output_type": "stream",
     "text": [
      "This took: 4.172546863555908 milliseconds\n"
     ]
    }
   ],
   "source": [
    "import time\n",
    "\n",
    "N = 100\n",
    "total = 0\n",
    "\n",
    "for i in range(N):\n",
    "    t0 = time.time()\n",
    "    for i in range(1,100): conflicts(random_board(8))\n",
    "    t1 = time.time()\n",
    "    total += t1 - t0\n",
    "\n",
    "tm = total/N\n",
    "    \n",
    "print(f\"This took: {tm * 1e3} milliseconds\")"
   ]
  },
  {
   "cell_type": "markdown",
   "metadata": {},
   "source": [
    "The `timit` package is useful to measure time for code that is called repeatedly."
   ]
  },
  {
   "cell_type": "code",
   "execution_count": 68,
   "metadata": {},
   "outputs": [
    {
     "name": "stdout",
     "output_type": "stream",
     "text": [
      "This took: 4.494981999996526 milliseconds\n"
     ]
    }
   ],
   "source": [
    "import timeit\n",
    "\n",
    "N = 100\n",
    "\n",
    "tm = timeit.timeit('for i in range(1,100): conflicts(random_board(8))', \n",
    "                   globals = globals(), number = N)/N\n",
    "\n",
    "print(f\"This took: {tm * 1e3} milliseconds\")"
   ]
  },
  {
   "cell_type": "code",
   "execution_count": 82,
   "metadata": {},
   "outputs": [
    {
     "name": "stdout",
     "output_type": "stream",
     "text": [
      "Board Size: 4\n",
      "--------------\n",
      "Algorithm: Steepest Ascend\n",
      "Average Time: 0.2782069444656372\n",
      "Average Iterations: 59.8\n",
      "Average Conflicts: 0.0\n",
      "\n",
      "Algorithm: Stochastic 1\n",
      "Average Time: 0.125730562210083\n",
      "Average Iterations: 27.0\n",
      "Average Conflicts: 0.0\n",
      "\n",
      "Algorithm: Stochastic 2\n",
      "Average Time: 0.26781015396118163\n",
      "Average Iterations: 26.4\n",
      "Average Conflicts: 0.0\n",
      "\n",
      "Algorithm: Simulated Annealing\n",
      "Average Time: 0.41320195198059084\n",
      "Average Iterations: 32.5\n",
      "Average Conflicts: 0.0\n",
      "\n",
      "Algorithm: Steepest Ascend w/ Restarts\n",
      "Average Time: 0.09493005275726318\n",
      "Average Iterations: 27.7\n",
      "Average Conflicts: 0.0\n",
      "\n",
      "Algorithm: Stochastic 1 w/ Restarts\n",
      "Average Time: 0.03326649665832519\n",
      "Average Iterations: 242.7\n",
      "Average Conflicts: 0.0\n",
      "\n",
      "Algorithm: Stochastic 2 w/ Restarts\n",
      "Average Time: 0.10956473350524902\n",
      "Average Iterations: 42.7\n",
      "Average Conflicts: 0.0\n",
      "\n",
      "Board Size: 5\n",
      "--------------\n",
      "Algorithm: Steepest Ascend\n",
      "Average Time: 0.056219863891601565\n",
      "Average Iterations: 14.9\n",
      "Average Conflicts: 0.0\n",
      "\n",
      "Algorithm: Stochastic 1\n",
      "Average Time: 0.05231554508209228\n",
      "Average Iterations: 13.1\n",
      "Average Conflicts: 0.0\n",
      "\n",
      "Algorithm: Stochastic 2\n",
      "Average Time: 0.039409947395324704\n",
      "Average Iterations: 7.7\n",
      "Average Conflicts: 0.0\n",
      "\n",
      "Algorithm: Simulated Annealing\n",
      "Average Time: 0.25234060287475585\n",
      "Average Iterations: 14.0\n",
      "Average Conflicts: 0.0\n",
      "\n",
      "Algorithm: Steepest Ascend w/ Restarts\n",
      "Average Time: 0.08406119346618653\n",
      "Average Iterations: 20.8\n",
      "Average Conflicts: 0.0\n",
      "\n",
      "Algorithm: Stochastic 1 w/ Restarts\n",
      "Average Time: 0.018891286849975587\n",
      "Average Iterations: 79.4\n",
      "Average Conflicts: 0.0\n",
      "\n",
      "Algorithm: Stochastic 2 w/ Restarts\n",
      "Average Time: 0.03314368724822998\n",
      "Average Iterations: 11.7\n",
      "Average Conflicts: 0.0\n",
      "\n",
      "Board Size: 6\n",
      "--------------\n",
      "Algorithm: Steepest Ascend\n",
      "Average Time: 3.5157685041427613\n",
      "Average Iterations: 569.4\n",
      "Average Conflicts: 0.0\n",
      "\n",
      "Algorithm: Stochastic 1\n",
      "Average Time: 4.3700706481933596\n",
      "Average Iterations: 709.6\n",
      "Average Conflicts: 0.0\n",
      "\n",
      "Algorithm: Stochastic 2\n",
      "Average Time: 3.8653354406356812\n",
      "Average Iterations: 529.6\n",
      "Average Conflicts: 0.0\n",
      "\n",
      "Algorithm: Simulated Annealing\n",
      "Average Time: 7.3768822193145756\n",
      "Average Iterations: 614.9\n",
      "Average Conflicts: 0.0\n",
      "\n",
      "Algorithm: Steepest Ascend w/ Restarts\n",
      "Average Time: 4.995322561264038\n",
      "Average Iterations: 731.6\n",
      "Average Conflicts: 0.0\n",
      "\n",
      "Algorithm: Stochastic 1 w/ Restarts\n",
      "Average Time: 0.793758749961853\n",
      "Average Iterations: 1938.0\n",
      "Average Conflicts: 0.0\n",
      "\n",
      "Algorithm: Stochastic 2 w/ Restarts\n",
      "Average Time: 3.7451581001281737\n",
      "Average Iterations: 610.1\n",
      "Average Conflicts: 0.0\n",
      "\n",
      "Board Size: 7\n",
      "--------------\n",
      "Algorithm: Steepest Ascend\n",
      "Average Time: 3.148687505722046\n",
      "Average Iterations: 373.5\n",
      "Average Conflicts: 0.0\n",
      "\n",
      "Algorithm: Stochastic 1\n",
      "Average Time: 1.4682157993316651\n",
      "Average Iterations: 174.5\n",
      "Average Conflicts: 0.0\n",
      "\n",
      "Algorithm: Stochastic 2\n",
      "Average Time: 2.084240508079529\n",
      "Average Iterations: 180.9\n",
      "Average Conflicts: 0.0\n",
      "\n",
      "Algorithm: Simulated Annealing\n",
      "Average Time: 3.4515942096710206\n",
      "Average Iterations: 118.6\n",
      "Average Conflicts: 0.0\n",
      "\n",
      "Algorithm: Steepest Ascend w/ Restarts\n",
      "Average Time: 1.2870989561080932\n",
      "Average Iterations: 134.2\n",
      "Average Conflicts: 0.0\n",
      "\n",
      "Algorithm: Stochastic 1 w/ Restarts\n",
      "Average Time: 0.29818804264068605\n",
      "Average Iterations: 467.5\n",
      "Average Conflicts: 0.0\n",
      "\n",
      "Algorithm: Stochastic 2 w/ Restarts\n",
      "Average Time: 1.468738579750061\n",
      "Average Iterations: 182.5\n",
      "Average Conflicts: 0.0\n",
      "\n",
      "Board Size: 8\n",
      "--------------\n",
      "Algorithm: Steepest Ascend\n",
      "Average Time: 4.294652533531189\n",
      "Average Iterations: 393.2\n",
      "Average Conflicts: 0.0\n",
      "\n",
      "Algorithm: Stochastic 1\n",
      "Average Time: 4.2119303941726685\n",
      "Average Iterations: 387.2\n",
      "Average Conflicts: 0.0\n",
      "\n",
      "Algorithm: Stochastic 2\n",
      "Average Time: 4.5176966190338135\n",
      "Average Iterations: 334.6\n",
      "Average Conflicts: 0.0\n",
      "\n",
      "Algorithm: Simulated Annealing\n",
      "Average Time: 9.728964352607727\n",
      "Average Iterations: 550.4\n",
      "Average Conflicts: 0.0\n",
      "\n",
      "Algorithm: Steepest Ascend w/ Restarts\n",
      "Average Time: 6.46439254283905\n",
      "Average Iterations: 551.5\n",
      "Average Conflicts: 0.0\n",
      "\n",
      "Algorithm: Stochastic 1 w/ Restarts\n",
      "Average Time: 0.8494309902191162\n",
      "Average Iterations: 895.1\n",
      "Average Conflicts: 0.0\n",
      "\n",
      "Algorithm: Stochastic 2 w/ Restarts\n",
      "Average Time: 4.52832338809967\n",
      "Average Iterations: 419.5\n",
      "Average Conflicts: 0.0\n",
      "\n"
     ]
    }
   ],
   "source": [
    "import time\n",
    "\n",
    "N = 10\n",
    "algos = [\"Steepest Ascend\", \"Stochastic 1\", \"Stochastic 2\", \"Simulated Annealing\", \n",
    "         \"Steepest Ascend w/ Restarts\", \"Stochastic 1 w/ Restarts\", \"Stochastic 2 w/ Restarts\"]\n",
    "sizes = [4, 5, 6, 7, 8]\n",
    "\n",
    "for size in range(len(sizes)):\n",
    "    print(\"Board Size: \" + str(sizes[size]))\n",
    "    print(\"--------------\")\n",
    "    for algo in range(len(algos)):\n",
    "        iters = cons = times = 0\n",
    "        for i in range(N):\n",
    "            start = time.time()\n",
    "            if algo == 0:\n",
    "                output = steep_ascend(sizes[size], 1000)\n",
    "            if algo == 1:\n",
    "                output = stochastic1(sizes[size], 1000)\n",
    "            if algo == 2:\n",
    "                output = stochastic2(sizes[size], 1000)\n",
    "            if algo == 3:\n",
    "                output = sim_annealing(sizes[size], 1000, 5000)\n",
    "            if algo == 4:\n",
    "                output = random_steep(sizes[size], 1000, 1000)\n",
    "            if algo == 5:\n",
    "                output = random_sto1(sizes[size], 1000, 1000)\n",
    "            else:\n",
    "                output = random_sto2(sizes[size], 1000, 1000)\n",
    "            end = time.time()\n",
    "\n",
    "            times += end - start\n",
    "            iters += output[0]\n",
    "            cons += output[1]\n",
    "\n",
    "        print(\"Algorithm: \" + algos[algo])\n",
    "        print(\"Average Time: \" + str(times / N))\n",
    "        print(\"Average Iterations: \" + str(iters / N))\n",
    "        print(\"Average Conflicts: \" + str(cons / N))\n",
    "        print()"
   ]
  },
  {
   "cell_type": "markdown",
   "metadata": {},
   "source": [
    "#### Discussion\n",
    "It was very odd to see that the runs I did with a board size of 5, all the algorithms ran faster with less iterations than the board of size 4. However, there was a huge jump in runtime and average iterations from size 5 to size 6. I am wondering if this is an issue with the way my machine is running because these results are totally counter-intuitive. While the algorithms ran in appropriate time with sizes 4 and 5, they began to take whole seconds to run through the board of size 6. This proved to be a problem for testing as I had to decrease the number of boards that were run for each algorithm from 100 to 10 in order to get more timing results.\n",
    "\n",
    "However, from the sizes that were run, the first version of the Stochastic Hill-Climbing with Random Restarts algorithm ran loads faster on average than the other local search algorithms. This makes sense as the algorithm is meant to restart with a new board in order to find a better solution, and with the stochastic 1 algorithm without the random restarts already being faster than the other algorithms (without random restarts), the restarts help the runtime and average iterations a lot.\n",
    "\n",
    "The average conflicts for each run never went over 1, so the output never returned anything other than zero due to the nature of rounding."
   ]
  },
  {
   "cell_type": "markdown",
   "metadata": {},
   "source": [
    "## Bonus: Implement a Genetic Algorithm for the n-Queens problem [+1 Point]"
   ]
  },
  {
   "cell_type": "code",
   "execution_count": 290,
   "metadata": {},
   "outputs": [],
   "source": [
    "# Code and description go here"
   ]
  }
 ],
 "metadata": {
  "kernelspec": {
   "display_name": "Python 3 (ipykernel)",
   "language": "python",
   "name": "python3"
  },
  "language_info": {
   "codemirror_mode": {
    "name": "ipython",
    "version": 3
   },
   "file_extension": ".py",
   "mimetype": "text/x-python",
   "name": "python",
   "nbconvert_exporter": "python",
   "pygments_lexer": "ipython3",
   "version": "3.8.12"
  }
 },
 "nbformat": 4,
 "nbformat_minor": 4
}

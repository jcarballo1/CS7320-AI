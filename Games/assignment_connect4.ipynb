{
 "cells": [
  {
   "cell_type": "markdown",
   "metadata": {},
   "source": [
    "# Adversarial Search: Playing Connect 4\n",
    "\n",
    "\n",
    "## Instructions\n",
    "\n",
    "Total Points: Undegraduates 10, graduate students 11\n",
    "\n",
    "Complete this notebook and submit it. The notebook needs to be a complete project report with your implementation, documentation including a short discussion of how your implementation works and your design choices, and experimental results (e.g., tables and charts with simulation results) with a short discussion of what they mean. Use the provided notebook cells and insert additional code and markdown cells as needed.\n",
    "\n",
    "## Introduction\n",
    "\n",
    "You will implement different versions of agents that play Connect 4:\n",
    "\n",
    "> \"Connect 4 is a two-player connection board game, in which the players choose a color and then take turns dropping colored discs into a seven-column, six-row vertically suspended grid. The pieces fall straight down, occupying the lowest available space within the column. The objective of the game is to be the first to form a horizontal, vertical, or diagonal line of four of one's own discs.\" (see [Connect Four on Wikipedia](https://en.wikipedia.org/wiki/Connect_Four))\n",
    "\n",
    "Note that [Connect-4 has been solved](https://en.wikipedia.org/wiki/Connect_Four#Mathematical_solution)\n",
    "in 1988. A connect-4 solver with a discussion of how to solve different parts of the problem can be found here: https://connect4.gamesolver.org/en/"
   ]
  },
  {
   "cell_type": "markdown",
   "metadata": {},
   "source": [
    "## Task 1: Defining the Search Problem [1 point]\n",
    "\n",
    "Define the components of the search problem:\n",
    "\n",
    "* Initial state\n",
    "* Actions\n",
    "* Transition model\n",
    "* Goal state"
   ]
  },
  {
   "cell_type": "markdown",
   "metadata": {},
   "source": [
    "- Initial State: The empty board\n",
    "- Actions: dropping a colored disc into a column, which lands in the next available spot vertically in that column\n",
    "- Transition Model: the new board containing the result of the action the player took\n",
    "- Goal State: a board that contains 4 same-colored discs in a row, either horizantally, vertically, or diagonally"
   ]
  },
  {
   "cell_type": "markdown",
   "metadata": {},
   "source": [
    "How big is the state space? Give an estimate and explain it."
   ]
  },
  {
   "cell_type": "markdown",
   "metadata": {},
   "source": [
    "- The state space is given by calculating a permutation using the number of states (3: empty, player 1 disc, and player 2 disc) and the number of spots on the board. So with mxn being the number of spots on the board, the size of the state space is 3^mxn"
   ]
  },
  {
   "cell_type": "markdown",
   "metadata": {},
   "source": [
    "How big is the game tree that minimax search will go through? Give an estimate and explain it."
   ]
  },
  {
   "cell_type": "markdown",
   "metadata": {},
   "source": [
    "- The height of the tree is at most the depth of what is given for the algorithm to use. In my case I used 5, the max number of nodes it will have will be 2^(depth) - 1"
   ]
  },
  {
   "cell_type": "markdown",
   "metadata": {},
   "source": [
    "## Task 2: Game Environment and Random Agent [2 point]\n",
    "\n",
    "Use a numpy character array as the board."
   ]
  },
  {
   "cell_type": "code",
   "execution_count": null,
   "metadata": {},
   "outputs": [
    {
     "name": "stdout",
     "output_type": "stream",
     "text": [
      "[[0 0 0 0 0 0 0]\n",
      " [0 0 0 0 0 0 0]\n",
      " [0 0 0 0 0 0 0]\n",
      " [0 0 0 0 0 0 0]\n",
      " [0 0 0 0 0 0 0]\n",
      " [0 0 0 0 0 0 0]]\n"
     ]
    }
   ],
   "source": [
    "import numpy as np\n",
    "\n",
    "def empty_board(shape=(6, 7)):\n",
    "    return np.full(shape=shape, fill_value=0)\n",
    "\n",
    "print(empty_board())"
   ]
  },
  {
   "cell_type": "markdown",
   "metadata": {},
   "source": [
    "Instead of colors (red and yellow), I use 1 and -1 to represent the players. Make sure that your agent functions all have the from: `agent_type(board, player = 1)`, where board is the current board position and player is the player whose next move it is and who the agent should play."
   ]
  },
  {
   "cell_type": "code",
   "execution_count": null,
   "metadata": {
    "scrolled": true
   },
   "outputs": [
    {
     "data": {
      "image/png": "[encoded data removed]",
      "text/plain": [
       "<Figure size 432x288 with 1 Axes>"
      ]
     },
     "metadata": {
      "needs_background": "light"
     },
     "output_type": "display_data"
    }
   ],
   "source": [
    "# Visualization code by Randolph Rankin\n",
    "\n",
    "import matplotlib.pyplot as plt\n",
    "\n",
    "def visualize(board):\n",
    "    plt.axes()\n",
    "    rectangle=plt.Rectangle((-0.5,len(board)*-1+0.5),len(board[0]),len(board),fc='blue')\n",
    "    circles=[]\n",
    "    for i,row in enumerate(board):\n",
    "        for j,val in enumerate(row):\n",
    "            color='white' if val==0 else 'red' if val==1 else 'yellow'\n",
    "            circles.append(plt.Circle((j,i*-1),0.4,fc=color))\n",
    "\n",
    "    plt.gca().add_patch(rectangle)\n",
    "    for circle in circles:\n",
    "        plt.gca().add_patch(circle)\n",
    "\n",
    "    plt.axis('scaled')\n",
    "    plt.show()\n",
    "    \n",
    "board = [[0, 0, 0, 0, 0, 0, 0],\n",
    "         [0, 0, 0, 0, 0, 0, 0],\n",
    "         [0, 0, 0, 0, 0, 0, 0],\n",
    "         [0, 0, 0, 1, 0, 0, 0],\n",
    "         [0, 0, 0, 1, 0, 0, 0],\n",
    "         [0,-1,-1, 1,-1, 0, 0]]\n",
    "visualize(board)"
   ]
  },
  {
   "cell_type": "markdown",
   "metadata": {},
   "source": [
    "Implement helper functions for:\n",
    "\n",
    "* The transition model (result).\n",
    "* The utility function.\n",
    "* Check for terminal states.\n",
    "* A check for available actions.\n",
    "\n",
    "Make sure that all these functions work with boards of different sizes.\n",
    "\n",
    "Implement an agent that plays randomly and let two random agents play against each other 1000 times. How often does each player win? Is the result expected? "
   ]
  },
  {
   "cell_type": "code",
   "execution_count": 229,
   "metadata": {},
   "outputs": [],
   "source": [
    "def result(player, action, board):\n",
    "    x = action[0]\n",
    "    y = action[1]\n",
    "    board[x][y] = player\n",
    "    return board\n",
    "\n",
    "def utility(player, scores):\n",
    "    if player == 1:\n",
    "        scores[0] += 1\n",
    "    elif player == -1:\n",
    "        scores[1] += 1\n",
    "    else:\n",
    "        scores[2] += 1 #keep track of draws in index 2\n",
    "    return scores\n",
    "        \n",
    "def check_horizontal(x, y, board):\n",
    "    player = curr_space = board[x][y]\n",
    "    cnt = 1\n",
    "    while x > 0 and curr_space == player: # move to left most position while checking\n",
    "        x -= 1\n",
    "        curr_space = board[x][y]\n",
    "        cnt += 1\n",
    "    if cnt > 4:\n",
    "        return True\n",
    "    else: # check right\n",
    "        x += cnt - 1\n",
    "        curr_space = board[x][y]\n",
    "        cnt = 1\n",
    "        while x < len(board) - 1 and cnt <= 4 and curr_space == player:\n",
    "            x += 1\n",
    "            curr_space = board[x][y]\n",
    "            cnt += 1\n",
    "        if cnt > 4:\n",
    "            return True\n",
    "        \n",
    "    return False\n",
    "\n",
    "def check_vertical(x, y, board):\n",
    "    player = curr_space = board[x][y]\n",
    "    cnt = 1\n",
    "    while y > 0 and curr_space == player: # move to up most position while checking\n",
    "        y -= 1\n",
    "        curr_space = board[x][y]\n",
    "        cnt += 1\n",
    "    if cnt > 4:\n",
    "        return True\n",
    "    else: # check down\n",
    "        y += cnt - 1\n",
    "        curr_space = board[x][y]\n",
    "        cnt = 1\n",
    "        while y < len(board[x]) - 1 and cnt <= 4 and curr_space == player:\n",
    "            y += 1\n",
    "            curr_space = board[x][y]\n",
    "            cnt += 1\n",
    "        if cnt > 4:\n",
    "            return True\n",
    "        \n",
    "    return False\n",
    "\n",
    "def check_diagonal(x, y, board):\n",
    "    num_x = len(board)\n",
    "    num_y = len(board[x])\n",
    "    player = curr_space = board[x][y]\n",
    "    cnt = 1\n",
    "    while x > 0 and y > 0 and curr_space == player: # move to up most position while checking\n",
    "        x -= 1\n",
    "        y -= 1\n",
    "        curr_space = board[x][y]\n",
    "        cnt += 1\n",
    "    if cnt > 4:\n",
    "        return True\n",
    "    else: # check down\n",
    "        x += cnt - 1\n",
    "        y += cnt - 1\n",
    "        curr_space = board[x][y]\n",
    "        cnt = 1\n",
    "        while x < num_x - 1 and y < num_y - 1 and cnt <= 4 and curr_space == player:\n",
    "            x += 1\n",
    "            y += 1\n",
    "            curr_space = board[x][y]\n",
    "            cnt += 1\n",
    "        if cnt > 4:\n",
    "            return True\n",
    "        \n",
    "    return False\n",
    "        \n",
    "def terminal_check(pos, board):\n",
    "    x = pos[0]\n",
    "    y = pos[1]\n",
    "    curr_space = board[x][y]\n",
    "    if curr_space != 0:\n",
    "        if check_horizontal(x, y, board) or check_vertical(x, y, board) or check_diagonal(x, y, board):\n",
    "            return True\n",
    "    return False\n",
    "\n",
    "def available_actions(board):\n",
    "    available = []\n",
    "    \n",
    "    for x in range(len(board)):\n",
    "        for y in range(len(board[x]) - 1, -1, -1):\n",
    "            curr_space = board[x][y]\n",
    "            if curr_space == 0:\n",
    "                pos = (x, y)\n",
    "                available.append(pos)\n",
    "                break\n",
    "                \n",
    "    return available\n",
    "\n",
    "def agent(board, player):\n",
    "    actions = available_actions(board)\n",
    "    if len(actions) == 0:\n",
    "        return None\n",
    "    index = np.random.choice(len(actions))\n",
    "    return actions[index]"
   ]
  },
  {
   "cell_type": "code",
   "execution_count": 197,
   "metadata": {},
   "outputs": [],
   "source": [
    "def play_game(n = 1000):\n",
    "    player_scores = [0, 0, 0]\n",
    "    for i in range(n):\n",
    "        curr_player = 1\n",
    "        board = empty_board()\n",
    "        is_terminal = False\n",
    "        while not is_terminal:\n",
    "            action = agent(board, curr_player)\n",
    "            \n",
    "            if action is None: \n",
    "                curr_player = 0\n",
    "                break\n",
    "                \n",
    "            board = result(curr_player, action, board)\n",
    "            is_terminal = terminal_check(action, board)\n",
    "            curr_player *= -1 # toggle player\n",
    "        player_scores = utility(curr_player, player_scores)\n",
    "        \n",
    "    print(\"Player 1 Score: \" + str(player_scores[0]))\n",
    "    print(\"Player 2 Score: \" + str(player_scores[1]))\n",
    "    print(\"Draws: \" + str(player_scores[2]))"
   ]
  },
  {
   "cell_type": "code",
   "execution_count": 198,
   "metadata": {},
   "outputs": [
    {
     "name": "stdout",
     "output_type": "stream",
     "text": [
      "Player 1 Score: 504\n",
      "Player 2 Score: 493\n",
      "Draws: 3\n"
     ]
    }
   ],
   "source": [
    "play_game()"
   ]
  },
  {
   "cell_type": "markdown",
   "metadata": {},
   "source": [
    "- Each player wins nearly close to half the time, which is expected as the location in which they drop the column is being decided in a uniform random form (equal chance for all choices)"
   ]
  },
  {
   "cell_type": "markdown",
   "metadata": {},
   "source": [
    "## Task 3: Minimax Search with Alpha-Beta Pruning [4 points]\n",
    "\n",
    "### Implement the search starting from a given board and specifying the player.\n",
    "\n"
   ]
  },
  {
   "cell_type": "markdown",
   "metadata": {},
   "source": [
    "__Note:__ The search space for a $6 \\times 7$ board is large. You can experiment with smaller boards (the smallest is $4 \\times 4$) and/or changing the winning rule to connect 3 instead of 4."
   ]
  },
  {
   "cell_type": "code",
   "execution_count": 236,
   "metadata": {},
   "outputs": [],
   "source": [
    "def minimax(curr_loc, player, board):\n",
    "    result = max_val(5, -1000, 1000, curr_loc, player, board)\n",
    "    return result[1]\n",
    "\n",
    "def min_val(depth, alpha, beta, loc, player, board):\n",
    "    is_terminal = terminal_check(loc, board)\n",
    "    if depth == 0 or is_terminal:\n",
    "        if is_terminal:\n",
    "            print(\"Win Complete\")\n",
    "            return 0, (0,0)\n",
    "        return 1, loc\n",
    "\n",
    "    min_val = 1000\n",
    "    min_action = (0, 0)\n",
    "    actions = available_actions(board)\n",
    "    for a in actions:\n",
    "        val = max_val(depth - 1, alpha, beta, a, toggle(player), board)\n",
    "\n",
    "        if val[0] < min_val:\n",
    "            min_val = val[0]\n",
    "            min_action = val[1]\n",
    "            beta = min(beta, min_val)\n",
    "        if beta <= alpha:\n",
    "            break\n",
    "\n",
    "    return (min_val, min_action)\n",
    "\n",
    "def max_val(depth, alpha, beta, loc, player, board):\n",
    "    is_terminal = terminal_check(loc, board)\n",
    "    if depth == 0 or is_terminal:\n",
    "        if is_terminal:\n",
    "            print(\"Win Complete\")\n",
    "            return 0, (0,0)\n",
    "        return 1, loc\n",
    "\n",
    "    max_val = -1\n",
    "    max_action = (0, 0)\n",
    "    actions = available_actions(board)\n",
    "    for a in actions:\n",
    "        val = min_val(depth - 1, alpha, beta, a, player, board)\n",
    "\n",
    "        if val[0] > max_val:\n",
    "            max_val = val[0]\n",
    "            max_action = val[1]\n",
    "            alpha = max(alpha, max_val)\n",
    "        if beta <= alpha:\n",
    "            break\n",
    "\n",
    "    return (max_val, max_action)\n",
    "\n",
    "def toggle(player):\n",
    "    return player * -1"
   ]
  },
  {
   "cell_type": "markdown",
   "metadata": {},
   "source": [
    "Experiment with some manually created boards (at least 5) to check if the agent spots winning opportunities."
   ]
  },
  {
   "cell_type": "code",
   "execution_count": 231,
   "metadata": {},
   "outputs": [
    {
     "name": "stdout",
     "output_type": "stream",
     "text": [
      "[[0 0 0 0 0 0 1]\n",
      " [0 0 0 0 0 0 1]\n",
      " [0 0 0 0 0 0 1]\n",
      " [0 0 0 0 0 0 0]\n",
      " [0 0 0 0 0 0 0]\n",
      " [0 0 0 0 0 0 0]]\n",
      "(0, 5)\n"
     ]
    }
   ],
   "source": [
    "board = empty_board()\n",
    "board[0][6] = board[1][6] = board[2][6] = 1\n",
    "action = minimax((0, 6) ,1, board)\n",
    "print(board)\n",
    "print(action)"
   ]
  },
  {
   "cell_type": "code",
   "execution_count": 232,
   "metadata": {},
   "outputs": [
    {
     "name": "stdout",
     "output_type": "stream",
     "text": [
      "[[ 0  0  0  0  1  1  1]\n",
      " [ 0  0  0  0 -1 -1 -1]\n",
      " [ 0  0  0  0  0  0  0]\n",
      " [ 0  0  0  0  0  0  0]\n",
      " [ 0  0  0  0  0  0  0]\n",
      " [ 0  0  0  0  0  0  0]]\n",
      "(0, 3)\n"
     ]
    }
   ],
   "source": [
    "board = empty_board()\n",
    "board[0][6] = board[0][5] = board[0][4] = 1\n",
    "board[1][6] = board[1][5] = board[1][4] = -1\n",
    "action = minimax((0, 6) ,1, board)\n",
    "print(board)\n",
    "print(action)"
   ]
  },
  {
   "cell_type": "code",
   "execution_count": 233,
   "metadata": {},
   "outputs": [
    {
     "name": "stdout",
     "output_type": "stream",
     "text": [
      "[[ 0  0  0  0  1  1  1]\n",
      " [ 0  0  0  0 -1 -1 -1]\n",
      " [ 0  0  0  0  0  0  1]\n",
      " [ 0  0  0  0  0  0  0]\n",
      " [ 0  0  0  0  0  0  0]\n",
      " [ 0  0  0  0  0  0  0]]\n",
      "(0, 3)\n"
     ]
    }
   ],
   "source": [
    "board = empty_board()\n",
    "board[0][6] = board[0][5] = board[0][4] = board[2][6] = 1\n",
    "board[1][6] = board[1][5] = board[1][4] = -1\n",
    "action = minimax((0, 6) ,1, board)\n",
    "print(board)\n",
    "print(action)"
   ]
  },
  {
   "cell_type": "code",
   "execution_count": 234,
   "metadata": {},
   "outputs": [
    {
     "name": "stdout",
     "output_type": "stream",
     "text": [
      "[[ 0  0  0  0  1  1  1]\n",
      " [ 0  0  0  0 -1 -1 -1]\n",
      " [ 0  0  0  0  0  0 -1]\n",
      " [ 0  0  0  0  0  0  1]\n",
      " [ 0  0  0  0  0  0  0]\n",
      " [ 0  0  0  0  0  0  0]]\n",
      "(0, 3)\n"
     ]
    }
   ],
   "source": [
    "board = empty_board()\n",
    "board[0][6] = board[0][5] = board[0][4] = board[3][6] = 1\n",
    "board[1][6] = board[1][5] = board[1][4] = board[2][6] = -1\n",
    "action = minimax((0, 6) ,1, board)\n",
    "print(board)\n",
    "print(action)"
   ]
  },
  {
   "cell_type": "code",
   "execution_count": 237,
   "metadata": {},
   "outputs": [
    {
     "name": "stdout",
     "output_type": "stream",
     "text": [
      "Win Complete\n",
      "[[ 0  0  0  1  1  1  1]\n",
      " [ 0  0  0  0 -1 -1 -1]\n",
      " [ 0  0  0  0  0  0 -1]\n",
      " [ 0  0  0  0  0  0  0]\n",
      " [ 0  0  0  0  0  0  0]\n",
      " [ 0  0  0  0  0  0  0]]\n",
      "(0, 0)\n"
     ]
    }
   ],
   "source": [
    "board = empty_board()\n",
    "board[0][6] = board[0][5] = board[0][4] = board[0][3] = 1\n",
    "board[1][6] = board[1][5] = board[1][4] = board[2][6] = -1\n",
    "action = minimax((0, 6) ,1, board)\n",
    "print(board)\n",
    "print(action)"
   ]
  },
  {
   "cell_type": "markdown",
   "metadata": {},
   "source": [
    "How long does it take to make a move? Start with a smaller board with 4 columns and make the board larger by adding columns."
   ]
  },
  {
   "cell_type": "markdown",
   "metadata": {},
   "source": [
    "# Small Board"
   ]
  },
  {
   "cell_type": "code",
   "execution_count": 246,
   "metadata": {},
   "outputs": [
    {
     "name": "stdout",
     "output_type": "stream",
     "text": [
      "[[0 0 0 0]\n",
      " [0 0 0 0]\n",
      " [0 0 0 0]\n",
      " [0 0 0 0]]\n",
      "(0, 3)\n"
     ]
    }
   ],
   "source": [
    "board = empty_board((4,4))\n",
    "action = minimax((0, 0) ,1, board)\n",
    "print(board)\n",
    "print(action)"
   ]
  },
  {
   "cell_type": "markdown",
   "metadata": {},
   "source": [
    "Time: 0.2s"
   ]
  },
  {
   "cell_type": "code",
   "execution_count": 248,
   "metadata": {},
   "outputs": [
    {
     "name": "stdout",
     "output_type": "stream",
     "text": [
      "[[ 0  1  1  1]\n",
      " [ 0 -1 -1 -1]\n",
      " [ 0  0  0 -1]\n",
      " [ 0  0  0  0]]\n",
      "(0, 0)\n"
     ]
    }
   ],
   "source": [
    "board = empty_board((4, 4))\n",
    "board[0][3] = board[0][2] = board[0][1] = 1\n",
    "board[1][3] = board[1][2] = board[1][1] = board[2][3] = -1\n",
    "action = minimax((0, 0) ,1, board)\n",
    "print(board)\n",
    "print(action)"
   ]
  },
  {
   "cell_type": "markdown",
   "metadata": {},
   "source": [
    "Time: 0.3s"
   ]
  },
  {
   "cell_type": "markdown",
   "metadata": {},
   "source": [
    "# Medium Board"
   ]
  },
  {
   "cell_type": "code",
   "execution_count": 249,
   "metadata": {},
   "outputs": [
    {
     "name": "stdout",
     "output_type": "stream",
     "text": [
      "[[0 0 0 0 0]\n",
      " [0 0 0 0 0]\n",
      " [0 0 0 0 0]\n",
      " [0 0 0 0 0]\n",
      " [0 0 0 0 0]]\n",
      "(0, 4)\n"
     ]
    }
   ],
   "source": [
    "board = empty_board((5,5))\n",
    "action = minimax((0, 0) ,1, board)\n",
    "print(board)\n",
    "print(action)"
   ]
  },
  {
   "cell_type": "markdown",
   "metadata": {},
   "source": [
    "Time: 0.3s"
   ]
  },
  {
   "cell_type": "code",
   "execution_count": 253,
   "metadata": {},
   "outputs": [
    {
     "name": "stdout",
     "output_type": "stream",
     "text": [
      "[[ 0  0  1  1  1]\n",
      " [ 0  0 -1 -1 -1]\n",
      " [ 0  0  0  0  0]\n",
      " [ 0  0  0  0  0]\n",
      " [ 0  0  0  0  0]]\n",
      "(0, 1)\n"
     ]
    }
   ],
   "source": [
    "board = empty_board((5,5))\n",
    "board[0][4] = board[0][3] = board[0][2] = board[1][2] = 1\n",
    "board[1][4] = board[1][3] = board[1][2] = -1\n",
    "action = minimax((0, 0) ,1, board)\n",
    "print(board)\n",
    "print(action)"
   ]
  },
  {
   "cell_type": "markdown",
   "metadata": {},
   "source": [
    "Time: 0.3s"
   ]
  },
  {
   "cell_type": "markdown",
   "metadata": {},
   "source": [
    "# Full Board"
   ]
  },
  {
   "cell_type": "code",
   "execution_count": 257,
   "metadata": {},
   "outputs": [
    {
     "name": "stdout",
     "output_type": "stream",
     "text": [
      "[[0 0 0 0 0 0 0]\n",
      " [0 0 0 0 0 0 0]\n",
      " [0 0 0 0 0 0 0]\n",
      " [0 0 0 0 0 0 0]\n",
      " [0 0 0 0 0 0 0]\n",
      " [0 0 0 0 0 0 0]]\n",
      "(0, 6)\n"
     ]
    }
   ],
   "source": [
    "board = empty_board()\n",
    "action = minimax((0, 0) ,1, board)\n",
    "print(board)\n",
    "print(action)"
   ]
  },
  {
   "cell_type": "markdown",
   "metadata": {},
   "source": [
    "Time: 0.3s"
   ]
  },
  {
   "cell_type": "code",
   "execution_count": 258,
   "metadata": {},
   "outputs": [
    {
     "name": "stdout",
     "output_type": "stream",
     "text": [
      "[[ 0  0  0  0  1  1  1]\n",
      " [ 0  0  0  0 -1 -1 -1]\n",
      " [ 0  0  0  0  0  0  0]\n",
      " [ 0  0  0  0  0  0  0]\n",
      " [ 0  0  0  0  0  0  0]\n",
      " [ 0  0  0  0  0  0  0]]\n",
      "(0, 3)\n"
     ]
    }
   ],
   "source": [
    "board = empty_board()\n",
    "board[0][6] = board[0][5] = board[0][4] = board[1][4] = 1\n",
    "board[1][6] = board[1][5] = board[1][4] = -1\n",
    "action = minimax((0, 0) ,1, board)\n",
    "print(board)\n",
    "print(action)"
   ]
  },
  {
   "cell_type": "markdown",
   "metadata": {},
   "source": [
    "Time: 0.2s"
   ]
  },
  {
   "cell_type": "markdown",
   "metadata": {},
   "source": [
    "Discussion: Creating a board and making move takes the same amount of time than just making creating the board. The results above seem to show that the time to make a move does not affect the total runtime."
   ]
  },
  {
   "cell_type": "markdown",
   "metadata": {},
   "source": [
    "### Move ordering\n",
    "\n",
    "Describe and implement a simple move ordering strategy. Make a table that shows how the ordering strategies influence the time it takes to make a move?"
   ]
  },
  {
   "cell_type": "code",
   "execution_count": null,
   "metadata": {},
   "outputs": [],
   "source": [
    "# Your code/ answer goes here."
   ]
  },
  {
   "cell_type": "markdown",
   "metadata": {},
   "source": [
    "### The first few moves\n",
    "\n",
    "Start with an empty board. This is the worst case scenario for minimax search with alpha-beta pruning since it needs solve all possible games that can be played (minus some pruning) before making the decision. What can you do? "
   ]
  },
  {
   "cell_type": "code",
   "execution_count": null,
   "metadata": {},
   "outputs": [],
   "source": [
    "# Your code/ answer goes here."
   ]
  },
  {
   "cell_type": "markdown",
   "metadata": {},
   "source": [
    "### Playtime\n",
    "\n",
    "Let the Minimax Search agent play a random agent on a small board. Analyze wins, losses and draws."
   ]
  },
  {
   "cell_type": "code",
   "execution_count": null,
   "metadata": {},
   "outputs": [],
   "source": [
    "# Your code/ answer goes here."
   ]
  },
  {
   "cell_type": "markdown",
   "metadata": {},
   "source": [
    "## Task 4: Heuristic Alpha-Beta Tree Search [3 points] \n",
    "\n",
    "### Heuristic evaluation function\n",
    "\n",
    "Define and implement a heuristic evaluation function."
   ]
  },
  {
   "cell_type": "code",
   "execution_count": null,
   "metadata": {},
   "outputs": [],
   "source": [
    "# Your code/ answer goes here."
   ]
  },
  {
   "cell_type": "markdown",
   "metadata": {},
   "source": [
    "### Cutting off search \n",
    "\n",
    "Modify your Minimax Search with Alpha-Beta Pruning to cut off search at a specified depth and use the heuristic evaluation function. Experiment with different cutoff values."
   ]
  },
  {
   "cell_type": "code",
   "execution_count": null,
   "metadata": {},
   "outputs": [],
   "source": [
    "# Your code/ answer goes here."
   ]
  },
  {
   "cell_type": "markdown",
   "metadata": {},
   "source": [
    "Experiment with the same manually created boards as above to check if the agent spots wining opportunities."
   ]
  },
  {
   "cell_type": "code",
   "execution_count": null,
   "metadata": {},
   "outputs": [],
   "source": [
    "# Your code/ answer goes here."
   ]
  },
  {
   "cell_type": "markdown",
   "metadata": {},
   "source": [
    "How long does it take to make a move? Start with a smaller board with 4 columns and make the board larger by adding columns."
   ]
  },
  {
   "cell_type": "code",
   "execution_count": null,
   "metadata": {},
   "outputs": [],
   "source": [
    "# Your code/ answer goes here."
   ]
  },
  {
   "cell_type": "markdown",
   "metadata": {},
   "source": [
    "### Playtime\n",
    "\n",
    "Let two heuristic search agents (different cutoff depth, different heuristic evaluation function) compete against each other on a reasonably sized board. Since there is no randomness, you only need to let them play once."
   ]
  },
  {
   "cell_type": "code",
   "execution_count": null,
   "metadata": {},
   "outputs": [],
   "source": [
    "# Your code/ answer goes here."
   ]
  },
  {
   "cell_type": "markdown",
   "metadata": {},
   "source": [
    "## Challenge task [+ 1 bonus point]\n",
    "\n",
    "Find another student and let your best agent play against the other student's best player. We will set up a class tournament on Canvas. This tournament will continue after the submission deadline."
   ]
  },
  {
   "cell_type": "markdown",
   "metadata": {},
   "source": [
    "## Graduate student advanced task: Pure Monte Carlo Search and Best First Move [1 point]\n",
    "\n",
    "__Undergraduate students:__ This is a bonus task you can attempt if you like [+1 Bonus point].\n",
    "\n",
    "### Pure Monte Carlo Search\n",
    "\n",
    "Implement Pure Monte Carlo Search and investigate how this search performs on the test boards that you have used above. "
   ]
  },
  {
   "cell_type": "code",
   "execution_count": null,
   "metadata": {},
   "outputs": [],
   "source": [
    "# Your code/ answer goes here."
   ]
  },
  {
   "cell_type": "markdown",
   "metadata": {},
   "source": [
    "### Best First Move\n",
    "\n",
    "How would you determine what the best first move is? You can use Pure Monte Carlo Search or any algorithms \n",
    "that you have implemented above."
   ]
  },
  {
   "cell_type": "code",
   "execution_count": null,
   "metadata": {},
   "outputs": [],
   "source": [
    "# Your code/ answer goes here."
   ]
  }
 ],
 "metadata": {
  "kernelspec": {
   "display_name": "Python 3 (ipykernel)",
   "language": "python",
   "name": "python3"
  },
  "language_info": {
   "codemirror_mode": {
    "name": "ipython",
    "version": 3
   },
   "file_extension": ".py",
   "mimetype": "text/x-python",
   "name": "python",
   "nbconvert_exporter": "python",
   "pygments_lexer": "ipython3",
   "version": "3.9.9"
  }
 },
 "nbformat": 4,
 "nbformat_minor": 4
}
